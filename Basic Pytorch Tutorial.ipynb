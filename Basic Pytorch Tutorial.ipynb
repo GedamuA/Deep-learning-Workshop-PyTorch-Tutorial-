{
  "nbformat": 4,
  "nbformat_minor": 0,
  "metadata": {
    "colab": {
      "name": "Basic pytorch .ipynb",
      "provenance": [],
      "toc_visible": true
    },
    "kernelspec": {
      "name": "python3",
      "display_name": "Python 3"
    },
    "accelerator": "GPU"
  },
  "cells": [
    {
      "cell_type": "markdown",
      "metadata": {
        "id": "JTaCL2ETEgja",
        "colab_type": "text"
      },
      "source": [
        "**Prerequisites:**\n",
        "\n",
        "*   you implemented machine learning models before using Pytorch \n",
        "*   you know what Deep learning is \n",
        "*   you have used numpy \n",
        "*   maybe you have used tensorflow or similar library\n",
        "*   if you use Pytorch on a daily basis , this  workshop i sprobably not for you \n",
        "\n",
        "\n",
        "\n",
        "\n",
        "\n",
        "\n"
      ]
    },
    {
      "cell_type": "markdown",
      "metadata": {
        "id": "Xrd-PjYYG396",
        "colab_type": "text"
      },
      "source": [
        "**Goal: **\n",
        "\n",
        "\n",
        "*   Understand Pytorch \n",
        "*   Overview of all Concepts \n",
        "*   be able to use transfer Learning \n",
        "*   Know some handy tools and libs \n",
        "\n",
        "\n",
        "\n"
      ]
    },
    {
      "cell_type": "markdown",
      "metadata": {
        "id": "DEG6OscUHv1D",
        "colab_type": "text"
      },
      "source": [
        "Before We Start :\n",
        "\n",
        "\n",
        "*   Great to be here!\n",
        "*   thanks for the contribution and coming! i own you Drink \n",
        "*   Set up \n",
        "1. Go to https://colab.research.google.com\n",
        "2. Create a new python 3 notebook\n",
        "3. Enable the GPU: \"Edit -> Notebook settings -> Hardware accelerator: GPU -> Save\"\n",
        "4. then install pytorch : !pip install torch torchvision\n",
        "\n",
        "\n",
        "\n",
        "\n",
        "\n",
        "\n",
        "\n"
      ]
    },
    {
      "cell_type": "code",
      "metadata": {
        "id": "wOQCJ5e8QZ7j",
        "colab_type": "code",
        "colab": {
          "base_uri": "https://localhost:8080/",
          "height": 122
        },
        "outputId": "c47172f0-b0ab-4180-821d-084f651ee572"
      },
      "source": [
        " !pip install torch torchvision"
      ],
      "execution_count": 6,
      "outputs": [
        {
          "output_type": "stream",
          "text": [
            "Requirement already satisfied: torch in /usr/local/lib/python3.6/dist-packages (1.3.1)\n",
            "Requirement already satisfied: torchvision in /usr/local/lib/python3.6/dist-packages (0.4.2)\n",
            "Requirement already satisfied: numpy in /usr/local/lib/python3.6/dist-packages (from torch) (1.17.5)\n",
            "Requirement already satisfied: six in /usr/local/lib/python3.6/dist-packages (from torchvision) (1.12.0)\n",
            "Requirement already satisfied: pillow>=4.1.1 in /usr/local/lib/python3.6/dist-packages (from torchvision) (6.2.2)\n"
          ],
          "name": "stdout"
        }
      ]
    },
    {
      "cell_type": "markdown",
      "metadata": {
        "colab_type": "text",
        "id": "4Y8Pl0-OIygf"
      },
      "source": [
        " **Using PyTorch + GPU/TPU in Google's Colab:** Colaboratory is a Google research project created to help disseminate machine learning education and research. It's a Jupyter notebook environment that requires no setup to use and runs entirely in the cloud. Colaboratory notebooks are stored in Google Drive and can be shared just as you would with Google Docs or Sheets. Colaboratory is free. \n",
        "\n"
      ]
    },
    {
      "cell_type": "code",
      "metadata": {
        "id": "qZ6WjwAQDX4b",
        "colab_type": "code",
        "colab": {
          "base_uri": "https://localhost:8080/",
          "height": 51
        },
        "outputId": "344504e5-a66a-4b16-8482-90f724a5838b"
      },
      "source": [
        "import torch \n",
        "\n",
        "print(torch.__version__)\n",
        "\n",
        "device =\"cuda\" if torch.cuda.is_available() else \"cpu\"\n",
        "print(device)"
      ],
      "execution_count": 7,
      "outputs": [
        {
          "output_type": "stream",
          "text": [
            "1.3.1\n",
            "cuda\n"
          ],
          "name": "stdout"
        }
      ]
    },
    {
      "cell_type": "markdown",
      "metadata": {
        "id": "yQoIbAWKKp8d",
        "colab_type": "text"
      },
      "source": [
        "**Pytorch Overview** : what is Pytorch ? \"**PyTorch** - Tensors and Dynamic neural networks in Python with strong GPU acceleration. PyTorch is a deep learning framework for fast, flexible experimentation.\"\n",
        "It’s a Python-based scientific computing package targeted at two sets of audiences:\n",
        "1. A replacement for NumPy to use the power of GPUs\n",
        "2.Aa deep learning research platform that provides maximum flexibility and speed\n",
        "\n",
        "-- https://pytorch.org/*"
      ]
    },
    {
      "cell_type": "markdown",
      "metadata": {
        "id": "KGy0m0aKNtax",
        "colab_type": "text"
      },
      "source": [
        "**Build by Run** - what is that and why do I care \n",
        "![alt text](https://drive.google.com/uc?id=1-oHRCr3sYK1lW3DbA-d4bmxTzm3w03ao)"
      ]
    },
    {
      "cell_type": "markdown",
      "metadata": {
        "id": "IJa_6gBdQwqu",
        "colab_type": "text"
      },
      "source": [
        "this is much better explanation of pyTorch(I think)"
      ]
    },
    {
      "cell_type": "code",
      "metadata": {
        "id": "DVt3iEa9RBkS",
        "colab_type": "code",
        "colab": {
          "base_uri": "https://localhost:8080/",
          "height": 51
        },
        "outputId": "8934266c-16e3-49b1-fcbe-7633a394ae35"
      },
      "source": [
        "import torch \n",
        "import pdb \n",
        "\n",
        "def fun(x):\n",
        "  r = x+10\n",
        "  return r\n",
        "x = torch.randn(1,10)\n",
        "print(fun(x))"
      ],
      "execution_count": 8,
      "outputs": [
        {
          "output_type": "stream",
          "text": [
            "tensor([[10.6230,  9.5442, 10.2941,  9.5125,  9.9402, 10.5118, 10.3894,  9.2257,\n",
            "         10.2571,  8.5856]])\n"
          ],
          "name": "stdout"
        }
      ]
    },
    {
      "cell_type": "markdown",
      "metadata": {
        "id": "q0fwog6AS62A",
        "colab_type": "text"
      },
      "source": [
        "i like pytorch becouse \n",
        "\n",
        "\n",
        "1. It is just stupid python \n",
        "2. easy to debug \n",
        "3. research \n",
        "4. research is often published as pytroch project \n",
        "\n"
      ]
    },
    {
      "cell_type": "markdown",
      "metadata": {
        "id": "V5jAVF4ZUxj_",
        "colab_type": "text"
      },
      "source": [
        "**Get Starting: Basic pytorch**\n",
        "\n",
        "Tensor : Tensors are similar to NumPy’s ndarrays, with the addition being that Tensors can also be used on a GPU to accelerate computing.\n",
        "\n",
        "Tensor - the atoms of machine learning"
      ]
    },
    {
      "cell_type": "code",
      "metadata": {
        "id": "GpGvNMItagjn",
        "colab_type": "code",
        "colab": {
          "base_uri": "https://localhost:8080/",
          "height": 68
        },
        "outputId": "8efa7a5b-7d72-47bb-afb2-c80578cd2c27"
      },
      "source": [
        "import torch \n",
        "print(\"torch version ==>\" + str(torch.__version__))\n",
        "import torchvision \n",
        "print(\"torchvision version ==>\"  + str(torchvision.__version__))\n",
        "import numpy as np \n",
        "print(\"torch version ==>\" + str (np.__version__))\n"
      ],
      "execution_count": 9,
      "outputs": [
        {
          "output_type": "stream",
          "text": [
            "torch version ==>1.3.1\n",
            "torchvision version ==>0.4.2\n",
            "torch version ==>1.17.5\n"
          ],
          "name": "stdout"
        }
      ]
    },
    {
      "cell_type": "code",
      "metadata": {
        "id": "kxnrr9Eebw5V",
        "colab_type": "code",
        "colab": {}
      },
      "source": [
        "import numpy as np\n",
        "from numpy.linalg import inv\n",
        "from numpy.linalg import multi_dot as mdot"
      ],
      "execution_count": 0,
      "outputs": []
    },
    {
      "cell_type": "code",
      "metadata": {
        "id": "yrp2JSyVaiQk",
        "colab_type": "code",
        "colab": {
          "base_uri": "https://localhost:8080/",
          "height": 68
        },
        "outputId": "4aa43a2b-a81f-4ac9-8695-883029e8a65c"
      },
      "source": [
        "\n",
        "# numpy\n",
        "np.eye(3)"
      ],
      "execution_count": 11,
      "outputs": [
        {
          "output_type": "execute_result",
          "data": {
            "text/plain": [
              "array([[1., 0., 0.],\n",
              "       [0., 1., 0.],\n",
              "       [0., 0., 1.]])"
            ]
          },
          "metadata": {
            "tags": []
          },
          "execution_count": 11
        }
      ]
    },
    {
      "cell_type": "code",
      "metadata": {
        "id": "UGEZtACMaquL",
        "colab_type": "code",
        "outputId": "5dbc3859-c80c-4994-b513-d08263ccce1d",
        "colab": {
          "base_uri": "https://localhost:8080/",
          "height": 68
        }
      },
      "source": [
        "# torch\n",
        "torch.eye(3)"
      ],
      "execution_count": 0,
      "outputs": [
        {
          "output_type": "execute_result",
          "data": {
            "text/plain": [
              "tensor([[1., 0., 0.],\n",
              "        [0., 1., 0.],\n",
              "        [0., 0., 1.]])"
            ]
          },
          "metadata": {
            "tags": []
          },
          "execution_count": 35
        }
      ]
    },
    {
      "cell_type": "code",
      "metadata": {
        "id": "-H-bk5Z6auY-",
        "colab_type": "code",
        "colab": {
          "base_uri": "https://localhost:8080/",
          "height": 102
        },
        "outputId": "49fe2006-7d1f-45ee-dc2f-d5d45fd3d6b2"
      },
      "source": [
        "# numpy\n",
        "X = np.random.random((5, 3))\n",
        "X"
      ],
      "execution_count": 12,
      "outputs": [
        {
          "output_type": "execute_result",
          "data": {
            "text/plain": [
              "array([[0.17202813, 0.76819027, 0.76828488],\n",
              "       [0.48885661, 0.0033277 , 0.09142805],\n",
              "       [0.39188935, 0.98670756, 0.46882752],\n",
              "       [0.14916113, 0.22837405, 0.81944391],\n",
              "       [0.65574279, 0.37329872, 0.38183443]])"
            ]
          },
          "metadata": {
            "tags": []
          },
          "execution_count": 12
        }
      ]
    },
    {
      "cell_type": "code",
      "metadata": {
        "id": "0xa7QAhyazrd",
        "colab_type": "code",
        "colab": {
          "base_uri": "https://localhost:8080/",
          "height": 102
        },
        "outputId": "c2bfce79-f279-4598-bd96-afc4e98df50c"
      },
      "source": [
        "# pytorch\n",
        "Y = torch.rand((5, 3))\n",
        "Y"
      ],
      "execution_count": 13,
      "outputs": [
        {
          "output_type": "execute_result",
          "data": {
            "text/plain": [
              "tensor([[0.8695, 0.4345, 0.7424],\n",
              "        [0.0311, 0.2317, 0.0108],\n",
              "        [0.6855, 0.6742, 0.2524],\n",
              "        [0.1267, 0.6404, 0.6670],\n",
              "        [0.8834, 0.0451, 0.8135]])"
            ]
          },
          "metadata": {
            "tags": []
          },
          "execution_count": 13
        }
      ]
    },
    {
      "cell_type": "code",
      "metadata": {
        "id": "Wb7zImjna8-1",
        "colab_type": "code",
        "colab": {
          "base_uri": "https://localhost:8080/",
          "height": 34
        },
        "outputId": "e2b47746-05cb-425d-c583-4dac0c4fe9b6"
      },
      "source": [
        "X.shape"
      ],
      "execution_count": 14,
      "outputs": [
        {
          "output_type": "execute_result",
          "data": {
            "text/plain": [
              "(5, 3)"
            ]
          },
          "metadata": {
            "tags": []
          },
          "execution_count": 14
        }
      ]
    },
    {
      "cell_type": "code",
      "metadata": {
        "id": "qnhcgzuebKT8",
        "colab_type": "code",
        "colab": {
          "base_uri": "https://localhost:8080/",
          "height": 34
        },
        "outputId": "fe933a22-95a2-4a4d-a25b-30f91a34ed9f"
      },
      "source": [
        "Y.shape"
      ],
      "execution_count": 15,
      "outputs": [
        {
          "output_type": "execute_result",
          "data": {
            "text/plain": [
              "torch.Size([5, 3])"
            ]
          },
          "metadata": {
            "tags": []
          },
          "execution_count": 15
        }
      ]
    },
    {
      "cell_type": "code",
      "metadata": {
        "id": "wf9BJjxObTV_",
        "colab_type": "code",
        "colab": {
          "base_uri": "https://localhost:8080/",
          "height": 68
        },
        "outputId": "599a13a1-513e-48c8-9e43-727e5c4c6f0d"
      },
      "source": [
        "# numpy\n",
        "X.T @ X"
      ],
      "execution_count": 16,
      "outputs": [
        {
          "output_type": "execute_result",
          "data": {
            "text/plain": [
              "array([[0.87439937, 0.79930976, 0.73320469],\n",
              "       [0.79930976, 1.75522581, 1.38276689],\n",
              "       [0.73320469, 1.38276689, 1.63570583]])"
            ]
          },
          "metadata": {
            "tags": []
          },
          "execution_count": 16
        }
      ]
    },
    {
      "cell_type": "code",
      "metadata": {
        "id": "tbs5dbNpbUed",
        "colab_type": "code",
        "colab": {
          "base_uri": "https://localhost:8080/",
          "height": 68
        },
        "outputId": "0e023f16-5f44-4381-d9b5-7dd4faaa3598"
      },
      "source": [
        "# torch\n",
        "Y.t() @ Y"
      ],
      "execution_count": 17,
      "outputs": [
        {
          "output_type": "execute_result",
          "data": {
            "text/plain": [
              "tensor([[2.0235, 0.9683, 1.6221],\n",
              "        [0.9683, 1.1092, 0.9591],\n",
              "        [1.6221, 0.9591, 1.7217]])"
            ]
          },
          "metadata": {
            "tags": []
          },
          "execution_count": 17
        }
      ]
    },
    {
      "cell_type": "code",
      "metadata": {
        "id": "wTQ521_zbmJ8",
        "colab_type": "code",
        "colab": {
          "base_uri": "https://localhost:8080/",
          "height": 68
        },
        "outputId": "aa0de5ad-ea50-4325-8533-841a12f2b88b"
      },
      "source": [
        "# numpy\n",
        "inv(X.T @ X)"
      ],
      "execution_count": 18,
      "outputs": [
        {
          "output_type": "execute_result",
          "data": {
            "text/plain": [
              "array([[ 2.03751829, -0.62376507, -0.38600844],\n",
              "       [-0.62376507,  1.89661606, -1.3237285 ],\n",
              "       [-0.38600844, -1.3237285 ,  1.90341752]])"
            ]
          },
          "metadata": {
            "tags": []
          },
          "execution_count": 18
        }
      ]
    },
    {
      "cell_type": "markdown",
      "metadata": {
        "id": "n4GgpS9jcAbs",
        "colab_type": "text"
      },
      "source": [
        "**More on Pytorch**"
      ]
    },
    {
      "cell_type": "code",
      "metadata": {
        "id": "8a3QeKzhcSNt",
        "colab_type": "code",
        "colab": {
          "base_uri": "https://localhost:8080/",
          "height": 68
        },
        "outputId": "9a6320fc-2c67-4fd8-8053-92716f8fa85c"
      },
      "source": [
        "A = torch.eye(3)\n",
        "A.add(1)\n",
        "#A.add_(1)"
      ],
      "execution_count": 19,
      "outputs": [
        {
          "output_type": "execute_result",
          "data": {
            "text/plain": [
              "tensor([[2., 1., 1.],\n",
              "        [1., 2., 1.],\n",
              "        [1., 1., 2.]])"
            ]
          },
          "metadata": {
            "tags": []
          },
          "execution_count": 19
        }
      ]
    },
    {
      "cell_type": "markdown",
      "metadata": {
        "id": "l8wQJ6vlczba",
        "colab_type": "text"
      },
      "source": [
        "Indexing and broadcasting: \n",
        "it works as expected like numpy "
      ]
    },
    {
      "cell_type": "code",
      "metadata": {
        "id": "FBvsSjpNc4MR",
        "colab_type": "code",
        "colab": {
          "base_uri": "https://localhost:8080/",
          "height": 34
        },
        "outputId": "bc31b8ce-ce4b-4676-da73-035753c20bee"
      },
      "source": [
        "A[0,0]\n",
        "A\n",
        "A[0:2]\n",
        "A[0:]\n",
        "A[2:]\n",
        "A[-1]"
      ],
      "execution_count": 20,
      "outputs": [
        {
          "output_type": "execute_result",
          "data": {
            "text/plain": [
              "tensor([0., 0., 1.])"
            ]
          },
          "metadata": {
            "tags": []
          },
          "execution_count": 20
        }
      ]
    },
    {
      "cell_type": "markdown",
      "metadata": {
        "id": "1d1dqSOUdZWK",
        "colab_type": "text"
      },
      "source": [
        "Converting "
      ]
    },
    {
      "cell_type": "code",
      "metadata": {
        "id": "hbfWZeLCddcQ",
        "colab_type": "code",
        "colab": {
          "base_uri": "https://localhost:8080/",
          "height": 68
        },
        "outputId": "a5894133-a4e6-49fe-e884-279f61163439"
      },
      "source": [
        "A = torch.eye(3)\n",
        "A"
      ],
      "execution_count": 21,
      "outputs": [
        {
          "output_type": "execute_result",
          "data": {
            "text/plain": [
              "tensor([[1., 0., 0.],\n",
              "        [0., 1., 0.],\n",
              "        [0., 0., 1.]])"
            ]
          },
          "metadata": {
            "tags": []
          },
          "execution_count": 21
        }
      ]
    },
    {
      "cell_type": "code",
      "metadata": {
        "id": "8L0qItNQdjca",
        "colab_type": "code",
        "colab": {
          "base_uri": "https://localhost:8080/",
          "height": 68
        },
        "outputId": "169a7b8a-6e0a-40af-c0cb-8a4d8b2d98bd"
      },
      "source": [
        "# torch --> numpy\n",
        "B = A.numpy()\n",
        "B"
      ],
      "execution_count": 22,
      "outputs": [
        {
          "output_type": "execute_result",
          "data": {
            "text/plain": [
              "array([[1., 0., 0.],\n",
              "       [0., 1., 0.],\n",
              "       [0., 0., 1.]], dtype=float32)"
            ]
          },
          "metadata": {
            "tags": []
          },
          "execution_count": 22
        }
      ]
    },
    {
      "cell_type": "markdown",
      "metadata": {
        "id": "S8fl6i_Qdn3h",
        "colab_type": "text"
      },
      "source": [
        "Note: torch and numpy can share the same memory / zero-copy"
      ]
    },
    {
      "cell_type": "code",
      "metadata": {
        "id": "ShOjiyAidpQ7",
        "colab_type": "code",
        "colab": {
          "base_uri": "https://localhost:8080/",
          "height": 68
        },
        "outputId": "e2aea5d4-117e-4bae-b475-6b9229319d2b"
      },
      "source": [
        "A.add_(.5)\n",
        "A"
      ],
      "execution_count": 23,
      "outputs": [
        {
          "output_type": "execute_result",
          "data": {
            "text/plain": [
              "tensor([[1.5000, 0.5000, 0.5000],\n",
              "        [0.5000, 1.5000, 0.5000],\n",
              "        [0.5000, 0.5000, 1.5000]])"
            ]
          },
          "metadata": {
            "tags": []
          },
          "execution_count": 23
        }
      ]
    },
    {
      "cell_type": "code",
      "metadata": {
        "id": "nGtd6CGmdyo6",
        "colab_type": "code",
        "colab": {
          "base_uri": "https://localhost:8080/",
          "height": 68
        },
        "outputId": "9ca404f8-113f-4e66-8e34-9c35fb2526d4"
      },
      "source": [
        "B"
      ],
      "execution_count": 24,
      "outputs": [
        {
          "output_type": "execute_result",
          "data": {
            "text/plain": [
              "array([[1.5, 0.5, 0.5],\n",
              "       [0.5, 1.5, 0.5],\n",
              "       [0.5, 0.5, 1.5]], dtype=float32)"
            ]
          },
          "metadata": {
            "tags": []
          },
          "execution_count": 24
        }
      ]
    },
    {
      "cell_type": "code",
      "metadata": {
        "id": "5JGTg_lid0bi",
        "colab_type": "code",
        "colab": {
          "base_uri": "https://localhost:8080/",
          "height": 68
        },
        "outputId": "f8c24b1d-dc30-4532-ace8-522ebc5eed42"
      },
      "source": [
        "# numpy --> torch\n",
        "torch.from_numpy(np.eye(3))"
      ],
      "execution_count": 25,
      "outputs": [
        {
          "output_type": "execute_result",
          "data": {
            "text/plain": [
              "tensor([[1., 0., 0.],\n",
              "        [0., 1., 0.],\n",
              "        [0., 0., 1.]], dtype=torch.float64)"
            ]
          },
          "metadata": {
            "tags": []
          },
          "execution_count": 25
        }
      ]
    },
    {
      "cell_type": "markdown",
      "metadata": {
        "id": "OLXgA053d8cL",
        "colab_type": "text"
      },
      "source": [
        "More :"
      ]
    },
    {
      "cell_type": "code",
      "metadata": {
        "id": "LKJCY2I_d910",
        "colab_type": "code",
        "colab": {
          "base_uri": "https://localhost:8080/",
          "height": 1000
        },
        "outputId": "c0f57f44-34a8-4c38-d93a-e8e291c809f3"
      },
      "source": [
        " [i for i in dir(torch) if not i.startswith(\"-\")]"
      ],
      "execution_count": 26,
      "outputs": [
        {
          "output_type": "execute_result",
          "data": {
            "text/plain": [
              "['AVG',\n",
              " 'AggregationType',\n",
              " 'Argument',\n",
              " 'ArgumentSpec',\n",
              " 'BFloat16Storage',\n",
              " 'BFloat16Tensor',\n",
              " 'BenchmarkConfig',\n",
              " 'BenchmarkExecutionStats',\n",
              " 'Block',\n",
              " 'BoolStorage',\n",
              " 'BoolTensor',\n",
              " 'BoolType',\n",
              " 'ByteStorage',\n",
              " 'ByteTensor',\n",
              " 'CharStorage',\n",
              " 'CharTensor',\n",
              " 'ClassType',\n",
              " 'Code',\n",
              " 'CompilationUnit',\n",
              " 'CompleteArgumentSpec',\n",
              " 'CudaBFloat16StorageBase',\n",
              " 'CudaBoolStorageBase',\n",
              " 'CudaByteStorageBase',\n",
              " 'CudaCharStorageBase',\n",
              " 'CudaDoubleStorageBase',\n",
              " 'CudaFloatStorageBase',\n",
              " 'CudaHalfStorageBase',\n",
              " 'CudaIntStorageBase',\n",
              " 'CudaLongStorageBase',\n",
              " 'CudaShortStorageBase',\n",
              " 'DictType',\n",
              " 'DoubleStorage',\n",
              " 'DoubleTensor',\n",
              " 'ErrorReport',\n",
              " 'ExecutionPlan',\n",
              " 'ExtraFilesMap',\n",
              " 'FatalError',\n",
              " 'FileCheck',\n",
              " 'FloatStorage',\n",
              " 'FloatTensor',\n",
              " 'FloatType',\n",
              " 'Function',\n",
              " 'FunctionSchema',\n",
              " 'Future',\n",
              " 'Generator',\n",
              " 'Gradient',\n",
              " 'Graph',\n",
              " 'GraphExecutorState',\n",
              " 'HalfStorage',\n",
              " 'HalfStorageBase',\n",
              " 'HalfTensor',\n",
              " 'IODescriptor',\n",
              " 'IntStorage',\n",
              " 'IntTensor',\n",
              " 'IntType',\n",
              " 'JITException',\n",
              " 'ListType',\n",
              " 'LockingLogger',\n",
              " 'LoggerBase',\n",
              " 'LongStorage',\n",
              " 'LongTensor',\n",
              " 'Node',\n",
              " 'NoopLogger',\n",
              " 'NumberType',\n",
              " 'OptionalType',\n",
              " 'PyTorchFileReader',\n",
              " 'PyTorchFileWriter',\n",
              " 'QInt32Storage',\n",
              " 'QInt32StorageBase',\n",
              " 'QInt8Storage',\n",
              " 'QInt8StorageBase',\n",
              " 'QUInt8Storage',\n",
              " 'SUM',\n",
              " 'ScriptMethod',\n",
              " 'ScriptModule',\n",
              " 'ShortStorage',\n",
              " 'ShortTensor',\n",
              " 'Size',\n",
              " 'Storage',\n",
              " 'StringType',\n",
              " 'Tensor',\n",
              " 'TensorType',\n",
              " 'ThroughputBenchmark',\n",
              " 'TracingState',\n",
              " 'TupleType',\n",
              " 'Type',\n",
              " 'Use',\n",
              " 'Value',\n",
              " '_C',\n",
              " '_StorageBase',\n",
              " '__all__',\n",
              " '__builtins__',\n",
              " '__cached__',\n",
              " '__config__',\n",
              " '__doc__',\n",
              " '__file__',\n",
              " '__future__',\n",
              " '__loader__',\n",
              " '__name__',\n",
              " '__package__',\n",
              " '__path__',\n",
              " '__spec__',\n",
              " '__version__',\n",
              " '_adaptive_avg_pool2d',\n",
              " '_addr',\n",
              " '_addr_',\n",
              " '_baddbmm_mkl_',\n",
              " '_batch_norm_impl_index',\n",
              " '_cast_Byte',\n",
              " '_cast_Char',\n",
              " '_cast_Double',\n",
              " '_cast_Float',\n",
              " '_cast_Half',\n",
              " '_cast_Int',\n",
              " '_cast_Long',\n",
              " '_cast_Short',\n",
              " '_cat',\n",
              " '_classes',\n",
              " '_convolution',\n",
              " '_convolution_nogroup',\n",
              " '_copy_from',\n",
              " '_ctc_loss',\n",
              " '_cudnn_ctc_loss',\n",
              " '_cudnn_init_dropout_state',\n",
              " '_cudnn_rnn',\n",
              " '_cudnn_rnn_flatten_weight',\n",
              " '_cufft_clear_plan_cache',\n",
              " '_cufft_get_plan_cache_max_size',\n",
              " '_cufft_get_plan_cache_size',\n",
              " '_cufft_set_plan_cache_max_size',\n",
              " '_debug_has_internal_overlap',\n",
              " '_dim_arange',\n",
              " '_dirichlet_grad',\n",
              " '_embedding_bag',\n",
              " '_empty_affine_quantized',\n",
              " '_empty_per_channel_affine_quantized',\n",
              " '_fft_with_size',\n",
              " '_fused_dropout',\n",
              " '_has_compatible_shallow_copy_type',\n",
              " '_import_dotted_name',\n",
              " '_index_copy_',\n",
              " '_index_put_impl_',\n",
              " '_jit_internal',\n",
              " '_log_softmax',\n",
              " '_log_softmax_backward_data',\n",
              " '_lu_solve_helper',\n",
              " '_lu_with_info',\n",
              " '_make_per_channel_quantized_tensor',\n",
              " '_make_per_tensor_quantized_tensor',\n",
              " '_masked_scale',\n",
              " '_max',\n",
              " '_min',\n",
              " '_mkldnn',\n",
              " '_mkldnn_reshape',\n",
              " '_mkldnn_transpose',\n",
              " '_mkldnn_transpose_',\n",
              " '_mode',\n",
              " '_multinomial_alias_draw',\n",
              " '_multinomial_alias_setup',\n",
              " '_namedtensor_internals',\n",
              " '_nnpack_available',\n",
              " '_nnpack_spatial_convolution',\n",
              " '_np',\n",
              " '_ops',\n",
              " '_pack_padded_sequence',\n",
              " '_pad_packed_sequence',\n",
              " '_reshape_from_tensor',\n",
              " '_s_where',\n",
              " '_sample_dirichlet',\n",
              " '_shape_as_tensor',\n",
              " '_six',\n",
              " '_sobol_engine_draw',\n",
              " '_sobol_engine_ff_',\n",
              " '_sobol_engine_initialize_state_',\n",
              " '_sobol_engine_scramble_',\n",
              " '_softmax',\n",
              " '_softmax_backward_data',\n",
              " '_sparse_addmm',\n",
              " '_sparse_mm',\n",
              " '_sparse_sum',\n",
              " '_standard_gamma',\n",
              " '_standard_gamma_grad',\n",
              " '_std',\n",
              " '_storage_classes',\n",
              " '_string_classes',\n",
              " '_tensor_classes',\n",
              " '_tensor_str',\n",
              " '_trilinear',\n",
              " '_unique',\n",
              " '_unique2',\n",
              " '_utils',\n",
              " '_utils_internal',\n",
              " '_var',\n",
              " '_weight_norm',\n",
              " '_weight_norm_cuda_interface',\n",
              " 'abs',\n",
              " 'abs_',\n",
              " 'acos',\n",
              " 'acos_',\n",
              " 'adaptive_avg_pool1d',\n",
              " 'adaptive_max_pool1d',\n",
              " 'add',\n",
              " 'addbmm',\n",
              " 'addcdiv',\n",
              " 'addcmul',\n",
              " 'addmm',\n",
              " 'addmv',\n",
              " 'addmv_',\n",
              " 'addr',\n",
              " 'affine_grid_generator',\n",
              " 'align_tensors',\n",
              " 'all',\n",
              " 'allclose',\n",
              " 'alpha_dropout',\n",
              " 'alpha_dropout_',\n",
              " 'any',\n",
              " 'arange',\n",
              " 'argmax',\n",
              " 'argmin',\n",
              " 'argsort',\n",
              " 'as_strided',\n",
              " 'as_strided_',\n",
              " 'as_tensor',\n",
              " 'asin',\n",
              " 'asin_',\n",
              " 'atan',\n",
              " 'atan2',\n",
              " 'atan_',\n",
              " 'autograd',\n",
              " 'avg_pool1d',\n",
              " 'backends',\n",
              " 'baddbmm',\n",
              " 'bartlett_window',\n",
              " 'batch_norm',\n",
              " 'batch_norm_backward_elemt',\n",
              " 'batch_norm_backward_reduce',\n",
              " 'batch_norm_elemt',\n",
              " 'batch_norm_gather_stats',\n",
              " 'batch_norm_gather_stats_with_counts',\n",
              " 'batch_norm_stats',\n",
              " 'batch_norm_update_stats',\n",
              " 'bernoulli',\n",
              " 'bfloat16',\n",
              " 'bilinear',\n",
              " 'binary_cross_entropy_with_logits',\n",
              " 'bincount',\n",
              " 'bitwise_not',\n",
              " 'blackman_window',\n",
              " 'bmm',\n",
              " 'bool',\n",
              " 'broadcast_tensors',\n",
              " 'can_cast',\n",
              " 'cartesian_prod',\n",
              " 'cat',\n",
              " 'cdist',\n",
              " 'ceil',\n",
              " 'ceil_',\n",
              " 'celu',\n",
              " 'celu_',\n",
              " 'chain_matmul',\n",
              " 'channels_last',\n",
              " 'cholesky',\n",
              " 'cholesky_inverse',\n",
              " 'cholesky_solve',\n",
              " 'chunk',\n",
              " 'clamp',\n",
              " 'clamp_',\n",
              " 'clamp_max',\n",
              " 'clamp_max_',\n",
              " 'clamp_min',\n",
              " 'clamp_min_',\n",
              " 'classes',\n",
              " 'clone',\n",
              " 'combinations',\n",
              " 'compiled_with_cxx11_abi',\n",
              " 'complex128',\n",
              " 'complex32',\n",
              " 'complex64',\n",
              " 'constant_pad_nd',\n",
              " 'contiguous_format',\n",
              " 'conv1d',\n",
              " 'conv2d',\n",
              " 'conv3d',\n",
              " 'conv_tbc',\n",
              " 'conv_transpose1d',\n",
              " 'conv_transpose2d',\n",
              " 'conv_transpose3d',\n",
              " 'convolution',\n",
              " 'cos',\n",
              " 'cos_',\n",
              " 'cosh',\n",
              " 'cosh_',\n",
              " 'cosine_embedding_loss',\n",
              " 'cosine_similarity',\n",
              " 'cpp',\n",
              " 'cross',\n",
              " 'ctc_loss',\n",
              " 'cuda',\n",
              " 'cudnn_affine_grid_generator',\n",
              " 'cudnn_batch_norm',\n",
              " 'cudnn_convolution',\n",
              " 'cudnn_convolution_transpose',\n",
              " 'cudnn_grid_sampler',\n",
              " 'cudnn_is_acceptable',\n",
              " 'cumprod',\n",
              " 'cumsum',\n",
              " 'default_generator',\n",
              " 'dequantize',\n",
              " 'det',\n",
              " 'detach',\n",
              " 'detach_',\n",
              " 'device',\n",
              " 'diag',\n",
              " 'diag_embed',\n",
              " 'diagflat',\n",
              " 'diagonal',\n",
              " 'digamma',\n",
              " 'dist',\n",
              " 'distributed',\n",
              " 'distributions',\n",
              " 'div',\n",
              " 'dot',\n",
              " 'double',\n",
              " 'dropout',\n",
              " 'dropout_',\n",
              " 'dsmm',\n",
              " 'dtype',\n",
              " 'eig',\n",
              " 'einsum',\n",
              " 'embedding',\n",
              " 'embedding_bag',\n",
              " 'embedding_renorm_',\n",
              " 'empty',\n",
              " 'empty_like',\n",
              " 'empty_strided',\n",
              " 'enable_grad',\n",
              " 'eq',\n",
              " 'equal',\n",
              " 'erf',\n",
              " 'erf_',\n",
              " 'erfc',\n",
              " 'erfc_',\n",
              " 'erfinv',\n",
              " 'exp',\n",
              " 'exp_',\n",
              " 'expm1',\n",
              " 'expm1_',\n",
              " 'eye',\n",
              " 'fake_quantize_per_channel_affine',\n",
              " 'fake_quantize_per_tensor_affine',\n",
              " 'fbgemm_linear_fp16_weight',\n",
              " 'fbgemm_linear_fp16_weight_fp32_activation',\n",
              " 'fbgemm_linear_int8_weight',\n",
              " 'fbgemm_linear_int8_weight_fp32_activation',\n",
              " 'fbgemm_linear_quantize_weight',\n",
              " 'fbgemm_pack_gemm_matrix_fp16',\n",
              " 'fbgemm_pack_quantized_matrix',\n",
              " 'feature_alpha_dropout',\n",
              " 'feature_alpha_dropout_',\n",
              " 'feature_dropout',\n",
              " 'feature_dropout_',\n",
              " 'fft',\n",
              " 'fill_',\n",
              " 'finfo',\n",
              " 'flatten',\n",
              " 'flip',\n",
              " 'float',\n",
              " 'float16',\n",
              " 'float32',\n",
              " 'float64',\n",
              " 'floor',\n",
              " 'floor_',\n",
              " 'fmod',\n",
              " 'fork',\n",
              " 'frac',\n",
              " 'frac_',\n",
              " 'frobenius_norm',\n",
              " 'from_file',\n",
              " 'from_numpy',\n",
              " 'full',\n",
              " 'full_like',\n",
              " 'functional',\n",
              " 'gather',\n",
              " 'ge',\n",
              " 'geqrf',\n",
              " 'ger',\n",
              " 'get_default_dtype',\n",
              " 'get_device',\n",
              " 'get_file_path',\n",
              " 'get_num_interop_threads',\n",
              " 'get_num_threads',\n",
              " 'get_rng_state',\n",
              " 'grid_sampler',\n",
              " 'grid_sampler_2d',\n",
              " 'grid_sampler_3d',\n",
              " 'group_norm',\n",
              " 'gru',\n",
              " 'gru_cell',\n",
              " 'gt',\n",
              " 'half',\n",
              " 'hamming_window',\n",
              " 'hann_window',\n",
              " 'hardshrink',\n",
              " 'has_cuda',\n",
              " 'has_cudnn',\n",
              " 'has_lapack',\n",
              " 'has_mkl',\n",
              " 'has_mkldnn',\n",
              " 'has_openmp',\n",
              " 'hinge_embedding_loss',\n",
              " 'histc',\n",
              " 'hsmm',\n",
              " 'hspmm',\n",
              " 'hub',\n",
              " 'ifft',\n",
              " 'iinfo',\n",
              " 'import_ir_module',\n",
              " 'import_ir_module_from_buffer',\n",
              " 'index_add',\n",
              " 'index_copy',\n",
              " 'index_fill',\n",
              " 'index_put',\n",
              " 'index_put_',\n",
              " 'index_select',\n",
              " 'initial_seed',\n",
              " 'instance_norm',\n",
              " 'int',\n",
              " 'int16',\n",
              " 'int32',\n",
              " 'int64',\n",
              " 'int8',\n",
              " 'int_repr',\n",
              " 'inverse',\n",
              " 'irfft',\n",
              " 'is_anomaly_enabled',\n",
              " 'is_complex',\n",
              " 'is_distributed',\n",
              " 'is_floating_point',\n",
              " 'is_grad_enabled',\n",
              " 'is_nonzero',\n",
              " 'is_same_size',\n",
              " 'is_signed',\n",
              " 'is_storage',\n",
              " 'is_tensor',\n",
              " 'isclose',\n",
              " 'isfinite',\n",
              " 'isinf',\n",
              " 'isnan',\n",
              " 'jit',\n",
              " 'kl_div',\n",
              " 'kthvalue',\n",
              " 'layer_norm',\n",
              " 'layout',\n",
              " 'le',\n",
              " 'lerp',\n",
              " 'lgamma',\n",
              " 'linspace',\n",
              " 'load',\n",
              " 'log',\n",
              " 'log10',\n",
              " 'log10_',\n",
              " 'log1p',\n",
              " 'log1p_',\n",
              " 'log2',\n",
              " 'log2_',\n",
              " 'log_',\n",
              " 'log_softmax',\n",
              " 'logdet',\n",
              " 'logical_not',\n",
              " 'logical_xor',\n",
              " 'logspace',\n",
              " 'logsumexp',\n",
              " 'long',\n",
              " 'lstm',\n",
              " 'lstm_cell',\n",
              " 'lstsq',\n",
              " 'lt',\n",
              " 'lu',\n",
              " 'lu_solve',\n",
              " 'lu_unpack',\n",
              " 'manual_seed',\n",
              " 'margin_ranking_loss',\n",
              " 'masked_fill',\n",
              " 'masked_scatter',\n",
              " 'masked_select',\n",
              " 'matmul',\n",
              " 'matrix_power',\n",
              " 'matrix_rank',\n",
              " 'max',\n",
              " 'max_pool1d',\n",
              " 'max_pool1d_with_indices',\n",
              " 'max_pool2d',\n",
              " 'max_pool3d',\n",
              " 'mean',\n",
              " 'median',\n",
              " 'memory_format',\n",
              " 'merge_type_from_type_comment',\n",
              " 'meshgrid',\n",
              " 'min',\n",
              " 'miopen_batch_norm',\n",
              " 'miopen_convolution',\n",
              " 'miopen_convolution_transpose',\n",
              " 'miopen_depthwise_convolution',\n",
              " 'miopen_rnn',\n",
              " 'mkldnn_adaptive_avg_pool2d',\n",
              " 'mkldnn_convolution',\n",
              " 'mkldnn_convolution_backward_weights',\n",
              " 'mkldnn_max_pool2d',\n",
              " 'mm',\n",
              " 'mode',\n",
              " 'mul',\n",
              " 'multinomial',\n",
              " 'multiprocessing',\n",
              " 'mv',\n",
              " 'mvlgamma',\n",
              " 'name',\n",
              " 'narrow',\n",
              " 'native_batch_norm',\n",
              " 'native_layer_norm',\n",
              " 'native_norm',\n",
              " 'ne',\n",
              " 'neg',\n",
              " 'neg_',\n",
              " 'nn',\n",
              " 'no_grad',\n",
              " 'nonzero',\n",
              " 'norm',\n",
              " 'norm_except_dim',\n",
              " 'normal',\n",
              " 'nuclear_norm',\n",
              " 'numel',\n",
              " 'ones',\n",
              " 'ones_like',\n",
              " 'onnx',\n",
              " 'ops',\n",
              " 'optim',\n",
              " 'orgqr',\n",
              " 'ormqr',\n",
              " 'os',\n",
              " 'pairwise_distance',\n",
              " 'parse_ir',\n",
              " 'parse_schema',\n",
              " 'parse_type_comment',\n",
              " 'pdist',\n",
              " 'per_channel_affine',\n",
              " 'per_channel_symmetric',\n",
              " 'per_tensor_affine',\n",
              " 'per_tensor_symmetric',\n",
              " 'pinverse',\n",
              " 'pixel_shuffle',\n",
              " 'platform',\n",
              " 'poisson',\n",
              " 'poisson_nll_loss',\n",
              " 'polygamma',\n",
              " 'pow',\n",
              " 'prelu',\n",
              " 'prepare_multiprocessing_environment',\n",
              " 'preserve_format',\n",
              " 'prod',\n",
              " 'promote_types',\n",
              " 'q_per_channel_axis',\n",
              " 'q_per_channel_scales',\n",
              " 'q_per_channel_zero_points',\n",
              " 'q_scale',\n",
              " 'q_zero_point',\n",
              " 'qint32',\n",
              " 'qint8',\n",
              " 'qr',\n",
              " 'qscheme',\n",
              " 'quantization',\n",
              " 'quantize_per_channel',\n",
              " 'quantize_per_tensor',\n",
              " 'quantized_gru',\n",
              " 'quantized_gru_cell',\n",
              " 'quantized_lstm',\n",
              " 'quantized_lstm_cell',\n",
              " 'quantized_max_pool2d',\n",
              " 'quantized_rnn_relu_cell',\n",
              " 'quantized_rnn_tanh_cell',\n",
              " 'quasirandom',\n",
              " 'quint8',\n",
              " 'rand',\n",
              " 'rand_like',\n",
              " 'randint',\n",
              " 'randint_like',\n",
              " 'randn',\n",
              " 'randn_like',\n",
              " 'random',\n",
              " 'randperm',\n",
              " 'range',\n",
              " 'reciprocal',\n",
              " 'reciprocal_',\n",
              " 'relu',\n",
              " 'relu_',\n",
              " 'remainder',\n",
              " 'renorm',\n",
              " 'repeat_interleave',\n",
              " 'reshape',\n",
              " 'resize_as_',\n",
              " 'result_type',\n",
              " 'rfft',\n",
              " 'rnn_relu',\n",
              " 'rnn_relu_cell',\n",
              " 'rnn_tanh',\n",
              " 'rnn_tanh_cell',\n",
              " 'roll',\n",
              " 'rot90',\n",
              " 'round',\n",
              " 'round_',\n",
              " 'rrelu',\n",
              " 'rrelu_',\n",
              " 'rsqrt',\n",
              " 'rsqrt_',\n",
              " 'rsub',\n",
              " 'saddmm',\n",
              " 'save',\n",
              " 'scalar_tensor',\n",
              " 'scatter',\n",
              " 'scatter_add',\n",
              " 'seed',\n",
              " 'select',\n",
              " 'selu',\n",
              " 'selu_',\n",
              " 'serialization',\n",
              " 'set_anomaly_enabled',\n",
              " 'set_default_dtype',\n",
              " 'set_default_tensor_type',\n",
              " 'set_flush_denormal',\n",
              " 'set_grad_enabled',\n",
              " 'set_num_interop_threads',\n",
              " 'set_num_threads',\n",
              " 'set_printoptions',\n",
              " 'set_rng_state',\n",
              " 'short',\n",
              " 'sigmoid',\n",
              " 'sigmoid_',\n",
              " 'sign',\n",
              " 'sin',\n",
              " 'sin_',\n",
              " 'sinh',\n",
              " 'sinh_',\n",
              " 'slogdet',\n",
              " 'smm',\n",
              " 'softmax',\n",
              " 'solve',\n",
              " 'sort',\n",
              " 'sparse',\n",
              " 'sparse_coo',\n",
              " 'sparse_coo_tensor',\n",
              " 'split',\n",
              " 'split_with_sizes',\n",
              " 'spmm',\n",
              " 'sqrt',\n",
              " 'sqrt_',\n",
              " 'squeeze',\n",
              " 'sspaddmm',\n",
              " 'stack',\n",
              " 'std',\n",
              " 'std_mean',\n",
              " 'stft',\n",
              " 'storage',\n",
              " 'strided',\n",
              " 'sub',\n",
              " 'sum',\n",
              " 'svd',\n",
              " 'symeig',\n",
              " 'sys',\n",
              " 't',\n",
              " 'take',\n",
              " 'tan',\n",
              " 'tan_',\n",
              " 'tanh',\n",
              " 'tanh_',\n",
              " 'tensor',\n",
              " 'tensordot',\n",
              " 'testing',\n",
              " 'threshold',\n",
              " 'threshold_',\n",
              " 'topk',\n",
              " 'torch',\n",
              " 'trace',\n",
              " 'transpose',\n",
              " 'trapz',\n",
              " 'triangular_solve',\n",
              " 'tril',\n",
              " 'tril_indices',\n",
              " 'triplet_margin_loss',\n",
              " 'triu',\n",
              " 'triu_indices',\n",
              " 'trunc',\n",
              " 'trunc_',\n",
              " 'typename',\n",
              " 'uint8',\n",
              " 'unbind',\n",
              " 'unique',\n",
              " 'unique_consecutive',\n",
              " 'unsqueeze',\n",
              " 'utils',\n",
              " 'var',\n",
              " 'var_mean',\n",
              " 'version',\n",
              " 'wait',\n",
              " 'where',\n",
              " 'zero_',\n",
              " 'zeros',\n",
              " 'zeros_like']"
            ]
          },
          "metadata": {
            "tags": []
          },
          "execution_count": 26
        }
      ]
    },
    {
      "cell_type": "markdown",
      "metadata": {
        "id": "Ec25a-OTebvJ",
        "colab_type": "text"
      },
      "source": [
        "**But what about the GPU?**\n",
        "How do I use the GPU?\n",
        "\n",
        "If you have a GPU make sure that the right pytorch is installed (check https://pytorch.org/ for details)."
      ]
    },
    {
      "cell_type": "code",
      "metadata": {
        "colab_type": "code",
        "id": "X2dvjS0cerPH",
        "colab": {
          "base_uri": "https://localhost:8080/",
          "height": 34
        },
        "outputId": "b4acc609-75bd-4620-fec0-961115155819"
      },
      "source": [
        "import torch\n",
        "device =\"cuda\" if torch.cuda.is_available() else \"cpu\"\n",
        "print(device)"
      ],
      "execution_count": 27,
      "outputs": [
        {
          "output_type": "stream",
          "text": [
            "cuda\n"
          ],
          "name": "stdout"
        }
      ]
    },
    {
      "cell_type": "markdown",
      "metadata": {
        "id": "8v2eYgHxe0IH",
        "colab_type": "text"
      },
      "source": [
        "You can move data to the GPU by doing .to(device). or .cuda()"
      ]
    },
    {
      "cell_type": "code",
      "metadata": {
        "id": "E852SnBXe8ur",
        "colab_type": "code",
        "colab": {
          "base_uri": "https://localhost:8080/",
          "height": 68
        },
        "outputId": "b07988c6-5611-4852-f6e1-69d8b803dbad"
      },
      "source": [
        "data = torch.eye(3)\n",
        "data.to(device)"
      ],
      "execution_count": 28,
      "outputs": [
        {
          "output_type": "execute_result",
          "data": {
            "text/plain": [
              "tensor([[1., 0., 0.],\n",
              "        [0., 1., 0.],\n",
              "        [0., 0., 1.]], device='cuda:0')"
            ]
          },
          "metadata": {
            "tags": []
          },
          "execution_count": 28
        }
      ]
    },
    {
      "cell_type": "markdown",
      "metadata": {
        "id": "nUmhilfjfBR-",
        "colab_type": "text"
      },
      "source": [
        "Now the computation happens on the GPU."
      ]
    },
    {
      "cell_type": "code",
      "metadata": {
        "id": "K6nDBzY2fD8f",
        "colab_type": "code",
        "colab": {
          "base_uri": "https://localhost:8080/",
          "height": 68
        },
        "outputId": "10830af6-546d-4a56-eac2-f3963e894f3d"
      },
      "source": [
        "res = data + data\n",
        "res"
      ],
      "execution_count": 29,
      "outputs": [
        {
          "output_type": "execute_result",
          "data": {
            "text/plain": [
              "tensor([[2., 0., 0.],\n",
              "        [0., 2., 0.],\n",
              "        [0., 0., 2.]])"
            ]
          },
          "metadata": {
            "tags": []
          },
          "execution_count": 29
        }
      ]
    },
    {
      "cell_type": "code",
      "metadata": {
        "id": "gTCcsHw0fIhh",
        "colab_type": "code",
        "colab": {
          "base_uri": "https://localhost:8080/",
          "height": 34
        },
        "outputId": "34a3c536-b65a-4904-9dcf-ce80596f3d0b"
      },
      "source": [
        "res.device"
      ],
      "execution_count": 30,
      "outputs": [
        {
          "output_type": "execute_result",
          "data": {
            "text/plain": [
              "device(type='cpu')"
            ]
          },
          "metadata": {
            "tags": []
          },
          "execution_count": 30
        }
      ]
    }
  ]
}