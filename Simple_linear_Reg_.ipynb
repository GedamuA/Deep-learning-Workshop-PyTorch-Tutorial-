{
  "nbformat": 4,
  "nbformat_minor": 0,
  "metadata": {
    "colab": {
      "name": "Simple linear Reg .ipynb",
      "provenance": [],
      "toc_visible": true
    },
    "kernelspec": {
      "name": "python3",
      "display_name": "Python 3"
    },
    "accelerator": "GPU"
  },
  "cells": [
    {
      "cell_type": "markdown",
      "metadata": {
        "id": "pPrp0Ugw9BQO",
        "colab_type": "text"
      },
      "source": [
        " **simple and easy Linear reg with Pytorch, Gradient Descent and GPU** "
      ]
    },
    {
      "cell_type": "code",
      "metadata": {
        "id": "uNRpu31P9UH_",
        "colab_type": "code",
        "colab": {}
      },
      "source": [
        "import torch\n",
        "import torch.nn as nn\n",
        "import torch.nn.functional as F\n",
        "import torch.optim as optim\n",
        "import torchvision\n",
        "\n",
        "DEVICE = torch.device(\"cuda:0\" if torch.cuda.is_available() else \"cpu\")\n",
        "\n"
      ],
      "execution_count": 0,
      "outputs": []
    },
    {
      "cell_type": "code",
      "metadata": {
        "id": "duuFh655Ctz3",
        "colab_type": "code",
        "colab": {}
      },
      "source": [
        "from pprint import pprint\n",
        "\n",
        "import matplotlib.pyplot as plt\n",
        "import numpy as np\n",
        "from IPython.core.debugger import set_trace"
      ],
      "execution_count": 0,
      "outputs": []
    },
    {
      "cell_type": "markdown",
      "metadata": {
        "id": "hUOY-0kIC4Mt",
        "colab_type": "text"
      },
      "source": [
        "The problems "
      ]
    },
    {
      "cell_type": "code",
      "metadata": {
        "id": "rH6lLbFQC2qH",
        "colab_type": "code",
        "colab": {
          "base_uri": "https://localhost:8080/",
          "height": 282
        },
        "outputId": "0b0ffaed-cb9e-4f3d-d32f-4219beddb1e2"
      },
      "source": [
        "\n",
        "from sklearn.datasets import make_regression\n",
        "\n",
        "\n",
        "n_features = 1\n",
        "n_samples = 100\n",
        "\n",
        "X, y = make_regression(\n",
        "    n_samples=n_samples,\n",
        "    n_features=n_features,\n",
        "    noise=20,\n",
        "    random_state=42,\n",
        ")\n",
        "\n",
        "fix, ax = plt.subplots()\n",
        "ax.plot(X, y, \".\")"
      ],
      "execution_count": 28,
      "outputs": [
        {
          "output_type": "execute_result",
          "data": {
            "text/plain": [
              "[<matplotlib.lines.Line2D at 0x7f855af0ab38>]"
            ]
          },
          "metadata": {
            "tags": []
          },
          "execution_count": 28
        },
        {
          "output_type": "display_data",
          "data": {
            "image/png": "[encoded data removed]",
            "text/plain": [
              "<Figure size 432x288 with 1 Axes>"
            ]
          },
          "metadata": {
            "tags": []
          }
        }
      ]
    },
    {
      "cell_type": "markdown",
      "metadata": {
        "id": "BbNjbM5y9u4l",
        "colab_type": "text"
      },
      "source": [
        "we have, tensor, numpy automatic diff. and Gradient \n",
        "\n",
        "Numpy to tensor converting and === the Solution ====="
      ]
    },
    {
      "cell_type": "code",
      "metadata": {
        "id": "xCnFVxmS913H",
        "colab_type": "code",
        "colab": {}
      },
      "source": [
        "X = torch.from_numpy(X).float()\n",
        "y = torch.from_numpy(y.reshape((n_samples, n_features))).float()"
      ],
      "execution_count": 0,
      "outputs": []
    },
    {
      "cell_type": "markdown",
      "metadata": {
        "id": "O-hoSRf3-1TF",
        "colab_type": "text"
      },
      "source": [
        "neural network and optimization "
      ]
    },
    {
      "cell_type": "code",
      "metadata": {
        "id": "-WhwMAG_-0ju",
        "colab_type": "code",
        "colab": {}
      },
      "source": [
        "\n",
        "class LinReg(nn.Module):\n",
        "    def __init__(self, input_dim):\n",
        "        super().__init__()\n",
        "        self.beta = nn.Linear(input_dim, 1)\n",
        "        \n",
        "    def forward(self, X):\n",
        "        return self.beta(X)\n",
        "\n"
      ],
      "execution_count": 0,
      "outputs": []
    },
    {
      "cell_type": "code",
      "metadata": {
        "id": "eb3Od3YcArmz",
        "colab_type": "code",
        "colab": {}
      },
      "source": [
        "model = LinReg(n_features).to(DEVICE)  # <-- here\n",
        "loss_fn = nn.MSELoss()\n",
        "optimizer = optim.SGD(model.parameters(), lr=0.001)\n",
        "\n",
        "\n",
        "X, y = X.to(DEVICE), y.to(DEVICE)  # <-- here\n"
      ],
      "execution_count": 0,
      "outputs": []
    },
    {
      "cell_type": "code",
      "metadata": {
        "id": "LkKwIQSYCl_E",
        "colab_type": "code",
        "colab": {
          "base_uri": "https://localhost:8080/",
          "height": 281
        },
        "outputId": "9fc92f28-ddad-4f70-9244-1751cc9a3b35"
      },
      "source": [
        "# Train step\n",
        "model.train()  # <-- here\n",
        "optimizer.zero_grad()\n",
        "\n",
        "y_ = model(X)\n",
        "loss = loss_fn(y_, y)\n",
        "\n",
        "loss.backward()\n",
        "optimizer.step()\n",
        "\n",
        "# Eval\n",
        "model.eval()  # <-- here\n",
        "with torch.no_grad():\n",
        "    y_ = model(X)    \n",
        "\n",
        "# Vis\n",
        "fig, ax = plt.subplots()\n",
        "ax.plot(X.cpu().numpy(), y_.cpu().numpy(), \".\", label=\"pred\")\n",
        "ax.plot(X.cpu().numpy(), y.cpu().numpy(), \".\", label=\"data\")\n",
        "ax.set_title(f\"MSE: {loss.item():0.1f}\")\n",
        "ax.legend();"
      ],
      "execution_count": 78,
      "outputs": [
        {
          "output_type": "display_data",
          "data": {
            "image/png": "[encoded data removed]",
            "text/plain": [
              "<Figure size 432x288 with 1 Axes>"
            ]
          },
          "metadata": {
            "tags": []
          }
        }
      ]
    },
    {
      "cell_type": "markdown",
      "metadata": {
        "id": "fAWGQrjEDsjd",
        "colab_type": "text"
      },
      "source": [
        "\n",
        "**Exercise:**\n",
        "1. Write a proper training loop for this linear regression example.\n",
        "2. Split data into train and valid.\n",
        "3. Use the Dataset and DataLoader abstraction.\n",
        "4. Create a logistic regression module.\n",
        "5. Create a Multi Layer Perceptron (MLP)."
      ]
    }
  ]
}