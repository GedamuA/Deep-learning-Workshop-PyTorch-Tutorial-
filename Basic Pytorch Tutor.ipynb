{
  "nbformat": 4,
  "nbformat_minor": 0,
  "metadata": {
    "colab": {
      "name": "Basic pytorch .ipynb",
      "provenance": [],
      "toc_visible": true
    },
    "kernelspec": {
      "name": "python3",
      "display_name": "Python 3"
    },
    "accelerator": "GPU"
  },
  "cells": [
    {
      "cell_type": "markdown",
      "metadata": {
        "id": "wKTz3gxjMpVs",
        "colab_type": "text"
      },
      
    },
    {
      "cell_type": "markdown",
      "metadata": {
        "id": "JTaCL2ETEgja",
        "colab_type": "text"
      },
      "source": [
        "**Prerequisites:**\n",
        "\n",
        "*   you implemented machine learning models before using Pytorch \n",
        "*   you know what Deep learning is \n",
        "*   you have used numpy \n",
        "*   maybe you have used tensorflow or similar library\n",
        "*   if you use Pytorch on a daily basis , this  workshop i sprobably not for you \n",
        "\n",
        "\n",
        "\n",
        "\n",
        "\n",
        "\n"
      ]
    },
    {
      "cell_type": "markdown",
      "metadata": {
        "id": "Xrd-PjYYG396",
        "colab_type": "text"
      },
      "source": [
        "**Goal: **\n",
        "\n",
        "\n",
        "*   Understand Pytorch \n",
        "*   Overview of all Concepts \n",
        "*   be able to use transfer Learning \n",
        "*   Know some handy tools and libs \n",
        "\n",
        "\n",
        "\n"
      ]
    },
    {
      "cell_type": "markdown",
      "metadata": {
        "id": "DEG6OscUHv1D",
        "colab_type": "text"
      },
      "source": [
        "Before We Start :\n",
        "\n",
        "\n",
        "*   Great to be here!\n",
        "*   thanks for the contribution and coming! i own you Drink \n",
        "*   Set up \n",
        "1. Go to https://colab.research.google.com\n",
        "2. Create a new python 3 notebook\n",
        "3. Enable the GPU: \"Edit -> Notebook settings -> Hardware accelerator: GPU -> Save\"\n",
        "4. then install pytorch : !pip install torch torchvision\n",
        "\n",
        "\n",
        "\n",
        "\n",
        "\n",
        "\n",
        "\n"
      ]
    },
    {
      "cell_type": "code",
      "metadata": {
        "id": "wOQCJ5e8QZ7j",
        "colab_type": "code",
        "colab": {}
      },
      "source": [
        " !pip install torch torchvision"
      ],
      "execution_count": 0,
      "outputs": []
    },
    {
      "cell_type": "markdown",
      "metadata": {
        "colab_type": "text",
        "id": "4Y8Pl0-OIygf"
      },
      "source": [
        " **Using PyTorch + GPU/TPU in Google's Colab:** Colaboratory is a Google research project created to help disseminate machine learning education and research. It's a Jupyter notebook environment that requires no setup to use and runs entirely in the cloud. Colaboratory notebooks are stored in Google Drive and can be shared just as you would with Google Docs or Sheets. Colaboratory is free. \n",
        "\n"
      ]
    },
    {
      "cell_type": "code",
      "metadata": {
        "id": "qZ6WjwAQDX4b",
        "colab_type": "code",
        "colab": {}
      },
      "source": [
        "import torch \n",
        "\n",
        "print(torch.__version__)\n",
        "\n",
        "device =\"cuda\" if torch.cuda.is_available() else \"cpu\"\n",
        "print(device)"
      ],
      "execution_count": 0,
      "outputs": []
    },
    {
      "cell_type": "markdown",
      "metadata": {
        "id": "yQoIbAWKKp8d",
        "colab_type": "text"
      },
      "source": [
        "**Pytorch Overview** : what is Pytorch ? \"**PyTorch** - Tensors and Dynamic neural networks in Python with strong GPU acceleration. PyTorch is a deep learning framework for fast, flexible experimentation.\"\n",
        "It’s a Python-based scientific computing package targeted at two sets of audiences:\n",
        "1. A replacement for NumPy to use the power of GPUs\n",
        "2.Aa deep learning research platform that provides maximum flexibility and speed\n",
        "\n",
        "-- https://pytorch.org/*"
      ]
    },
    {
      "cell_type": "markdown",
      "metadata": {
        "id": "KGy0m0aKNtax",
        "colab_type": "text"
      },
      "source": [
        "**Build by Run** - what is that and why do I care \n",
        "![alt text](https://drive.google.com/uc?id=1-oHRCr3sYK1lW3DbA-d4bmxTzm3w03ao)"
      ]
    },
    {
      "cell_type": "markdown",
      "metadata": {
        "id": "IJa_6gBdQwqu",
        "colab_type": "text"
      },
      "source": [
        "this is much better explanation of pyTorch(I think)"
      ]
    },
    {
      "cell_type": "code",
      "metadata": {
        "id": "DVt3iEa9RBkS",
        "colab_type": "code",
        "colab": {}
      },
      "source": [
        "import torch \n",
        "import pdb \n",
        "\n",
        "def fun(x):\n",
        "  r = x+10\n",
        "  return r\n",
        "\n",
        "x = torch.randn(1,10)\n",
        "print(fun(x))"
      ],
      "execution_count": 0,
      "outputs": []
    },
    {
      "cell_type": "markdown",
      "metadata": {
        "id": "q0fwog6AS62A",
        "colab_type": "text"
      },
      "source": [
        "i like pytorch becouse \n",
        "\n",
        "\n",
        "1. It is just stupid python \n",
        "2. easy to debug \n",
        "3. research \n",
        "4. research is often published as pytroch project \n",
        "\n"
      ]
    },
    {
      "cell_type": "markdown",
      "metadata": {
        "id": "tUhD5OQrkAcx",
        "colab_type": "text"
      },
      "source": [
        "#Get Starting: Basic pytorch"
      ]
    },
    {
      "cell_type": "markdown",
      "metadata": {
        "id": "V5jAVF4ZUxj_",
        "colab_type": "text"
      },
      "source": [
        "**Get Starting: Basic pytorch**\n",
        "\n",
        "Tensor : Tensors are similar to NumPy’s ndarrays, with the addition being that Tensors can also be used on a GPU to accelerate computing.\n",
        "\n",
        "Tensor - the atoms of machine learning"
      ]
    },
    {
      "cell_type": "code",
      "metadata": {
        "id": "GpGvNMItagjn",
        "colab_type": "code",
        "colab": {}
      },
      "source": [
        "import torch \n",
        "print(\"torch version ==>\" + str(torch.__version__))\n",
        "import torchvision \n",
        "print(\"torchvision version ==>\"  + str(torchvision.__version__))\n",
        "import numpy as np \n",
        "print(\"torch version ==>\" + str (np.__version__))\n"
      ],
      "execution_count": 0,
      "outputs": []
    },
    {
      "cell_type": "code",
      "metadata": {
        "id": "kxnrr9Eebw5V",
        "colab_type": "code",
        "colab": {}
      },
      "source": [
        "import numpy as np\n",
        "from numpy.linalg import inv\n",
        "from numpy.linalg import multi_dot as mdot"
      ],
      "execution_count": 0,
      "outputs": []
    },
    {
      "cell_type": "code",
      "metadata": {
        "id": "yrp2JSyVaiQk",
        "colab_type": "code",
        "colab": {}
      },
      "source": [
        "\n",
        "# numpy\n",
        "np.eye(3)"
      ],
      "execution_count": 0,
      "outputs": []
    },
    {
      "cell_type": "code",
      "metadata": {
        "id": "UGEZtACMaquL",
        "colab_type": "code",
        "outputId": "5dbc3859-c80c-4994-b513-d08263ccce1d",
        "colab": {
          "base_uri": "https://localhost:8080/",
          "height": 68
        }
      },
      "source": [
        "# torch\n",
        "torch.eye(3)"
      ],
      "execution_count": 0,
      "outputs": [
        {
          "output_type": "execute_result",
          "data": {
            "text/plain": [
              "tensor([[1., 0., 0.],\n",
              "        [0., 1., 0.],\n",
              "        [0., 0., 1.]])"
            ]
          },
          "metadata": {
            "tags": []
          },
          "execution_count": 35
        }
      ]
    },
    {
      "cell_type": "code",
      "metadata": {
        "id": "-H-bk5Z6auY-",
        "colab_type": "code",
        "colab": {}
      },
      "source": [
        "# numpy\n",
        "X = np.random.random((5, 3))\n",
        "X"
      ],
      "execution_count": 0,
      "outputs": []
    },
    {
      "cell_type": "code",
      "metadata": {
        "id": "0xa7QAhyazrd",
        "colab_type": "code",
        "colab": {}
      },
      "source": [
        "# pytorch\n",
        "Y = torch.rand((5, 3))\n",
        "Y"
      ],
      "execution_count": 0,
      "outputs": []
    },
    {
      "cell_type": "code",
      "metadata": {
        "id": "Wb7zImjna8-1",
        "colab_type": "code",
        "colab": {}
      },
      "source": [
        "X.shape"
      ],
      "execution_count": 0,
      "outputs": []
    },
    {
      "cell_type": "code",
      "metadata": {
        "id": "qnhcgzuebKT8",
        "colab_type": "code",
        "colab": {}
      },
      "source": [
        "Y.shape"
      ],
      "execution_count": 0,
      "outputs": []
    },
    {
      "cell_type": "code",
      "metadata": {
        "id": "wf9BJjxObTV_",
        "colab_type": "code",
        "colab": {}
      },
      "source": [
        "# numpy\n",
        "X.T @ X"
      ],
      "execution_count": 0,
      "outputs": []
    },
    {
      "cell_type": "code",
      "metadata": {
        "id": "tbs5dbNpbUed",
        "colab_type": "code",
        "colab": {}
      },
      "source": [
        "# torch\n",
        "Y.t() @ Y"
      ],
      "execution_count": 0,
      "outputs": []
    },
    {
      "cell_type": "code",
      "metadata": {
        "id": "wTQ521_zbmJ8",
        "colab_type": "code",
        "colab": {}
      },
      "source": [
        "# numpy\n",
        "inv(X.T @ X)"
      ],
      "execution_count": 0,
      "outputs": []
    },
    {
      "cell_type": "markdown",
      "metadata": {
        "id": "n4GgpS9jcAbs",
        "colab_type": "text"
      },
      "source": [
        "**More on Pytorch**"
      ]
    },
    {
      "cell_type": "markdown",
      "metadata": {
        "id": "MW6pZj4vkOCc",
        "colab_type": "text"
      },
      "source": [
        "# More on pytorch "
      ]
    },
    {
      "cell_type": "code",
      "metadata": {
        "id": "8a3QeKzhcSNt",
        "colab_type": "code",
        "colab": {}
      },
      "source": [
        "A = torch.eye(3)\n",
        "A.add(1)\n",
        "#A.add_(1)"
      ],
      "execution_count": 0,
      "outputs": []
    },
    {
      "cell_type": "markdown",
      "metadata": {
        "id": "l8wQJ6vlczba",
        "colab_type": "text"
      },
      "source": [
        "Indexing and broadcasting: \n",
        "it works as expected like numpy "
      ]
    },
    {
      "cell_type": "code",
      "metadata": {
        "id": "FBvsSjpNc4MR",
        "colab_type": "code",
        "colab": {}
      },
      "source": [
        "A[0,0]\n",
        "A\n",
        "A[0:2]\n",
        "A[0:]\n",
        "A[2:]\n",
        "A[-1]"
      ],
      "execution_count": 0,
      "outputs": []
    },
    {
      "cell_type": "markdown",
      "metadata": {
        "id": "1d1dqSOUdZWK",
        "colab_type": "text"
      },
      "source": [
        "Converting "
      ]
    },
    {
      "cell_type": "code",
      "metadata": {
        "id": "hbfWZeLCddcQ",
        "colab_type": "code",
        "colab": {}
      },
      "source": [
        "A = torch.eye(3)\n",
        "A"
      ],
      "execution_count": 0,
      "outputs": []
    },
    {
      "cell_type": "code",
      "metadata": {
        "id": "8L0qItNQdjca",
        "colab_type": "code",
        "colab": {}
      },
      "source": [
        "# torch --> numpy\n",
        "B = A.numpy()\n",
        "B"
      ],
      "execution_count": 0,
      "outputs": []
    },
    {
      "cell_type": "markdown",
      "metadata": {
        "id": "S8fl6i_Qdn3h",
        "colab_type": "text"
      },
      "source": [
        "Note: torch and numpy can share the same memory / zero-copy"
      ]
    },
    {
      "cell_type": "code",
      "metadata": {
        "id": "ShOjiyAidpQ7",
        "colab_type": "code",
        "colab": {}
      },
      "source": [
        "A.add_(.5)\n",
        "A"
      ],
      "execution_count": 0,
      "outputs": []
    },
    {
      "cell_type": "code",
      "metadata": {
        "id": "nGtd6CGmdyo6",
        "colab_type": "code",
        "colab": {}
      },
      "source": [
        "B"
      ],
      "execution_count": 0,
      "outputs": []
    },
    {
      "cell_type": "code",
      "metadata": {
        "id": "5JGTg_lid0bi",
        "colab_type": "code",
        "colab": {}
      },
      "source": [
        "# numpy --> torch\n",
        "torch.from_numpy(np.eye(3))"
      ],
      "execution_count": 0,
      "outputs": []
    },
    {
      "cell_type": "markdown",
      "metadata": {
        "id": "OLXgA053d8cL",
        "colab_type": "text"
      },
      "source": [
        "More :"
      ]
    },
    {
      "cell_type": "code",
      "metadata": {
        "id": "LKJCY2I_d910",
        "colab_type": "code",
        "colab": {}
      },
      "source": [
        " [i for i in dir(torch) if not i.startswith(\"-\")]"
      ],
      "execution_count": 0,
      "outputs": []
    },
    {
      "cell_type": "markdown",
      "metadata": {
        "id": "5-D9-iikkZuH",
        "colab_type": "text"
      },
      "source": [
        "# What About GPU"
      ]
    },
    {
      "cell_type": "markdown",
      "metadata": {
        "id": "Ec25a-OTebvJ",
        "colab_type": "text"
      },
      "source": [
        "**But what about the GPU?**\n",
        "How do I use the GPU?\n",
        "\n",
        "If you have a GPU make sure that the right pytorch is installed (check https://pytorch.org/ for details)."
      ]
    },
    {
      "cell_type": "code",
      "metadata": {
        "colab_type": "code",
        "id": "X2dvjS0cerPH",
        "colab": {}
      },
      "source": [
        "import torch\n",
        "device =\"cuda\" if torch.cuda.is_available() else \"cpu\"\n",
        "print(device)"
      ],
      "execution_count": 0,
      "outputs": []
    },
    {
      "cell_type": "markdown",
      "metadata": {
        "id": "8v2eYgHxe0IH",
        "colab_type": "text"
      },
      "source": [
        "You can move data to the GPU by doing .to(device). or .cuda()"
      ]
    },
    {
      "cell_type": "code",
      "metadata": {
        "id": "E852SnBXe8ur",
        "colab_type": "code",
        "colab": {}
      },
      "source": [
        "data = torch.eye(3)\n",
        "data.to(device)"
      ],
      "execution_count": 0,
      "outputs": []
    },
    {
      "cell_type": "markdown",
      "metadata": {
        "id": "nUmhilfjfBR-",
        "colab_type": "text"
      },
      "source": [
        "Now the computation happens on the GPU."
      ]
    },
    {
      "cell_type": "code",
      "metadata": {
        "id": "K6nDBzY2fD8f",
        "colab_type": "code",
        "colab": {}
      },
      "source": [
        "res = data + data\n",
        "res"
      ],
      "execution_count": 0,
      "outputs": []
    },
    {
      "cell_type": "code",
      "metadata": {
        "id": "gTCcsHw0fIhh",
        "colab_type": "code",
        "colab": {}
      },
      "source": [
        "res.device"
      ],
      "execution_count": 0,
      "outputs": []
    }
  ]
}
