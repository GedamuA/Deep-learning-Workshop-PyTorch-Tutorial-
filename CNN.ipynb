{
  "nbformat": 4,
  "nbformat_minor": 0,
  "metadata": {
    "colab": {
      "name": "CNN.ipynb",
      "provenance": [],
      "collapsed_sections": [],
      "toc_visible": true
    },
    "kernelspec": {
      "name": "python3",
      "display_name": "Python 3"
    },
    "accelerator": "GPU"
  },
  "cells": [
    {
      "cell_type": "markdown",
      "metadata": {
        "id": "GSzj9TwajPhV",
        "colab_type": "text"
      },
      "source": [
        "# Neural Network "
      ]
    },
    {
      "cell_type": "markdown",
      "metadata": {
        "id": "iTW9ZUyJhsYj",
        "colab_type": "text"
      },
      "source": [
        "In Pytorch neural network can be constructed using the **torch.nn** package.  An **nn.Module**  contains layers and method **forward (input)** that returns the outputs. \n",
        "\n",
        "![alt text](https://drive.google.com/uc?id=1FOnptCLwY4CJ5xVr-Z9iIomzumr-P3yJ)"
      ]
    },
    {
      "cell_type": "markdown",
      "metadata": {
        "id": "Ev2mKgeljcuL",
        "colab_type": "text"
      },
      "source": [
        "**Convnet**\n",
        "\n",
        "It is a simple feed-forward network. It takes the input, feeds it through several layers one after the other, and then finally gives the output.\n",
        "\n",
        "Training Procedure :\n",
        "1. Define the neural network that has some learnable parameters (or weights)\n",
        "2. Iterate over a dataset of inputs \n",
        "3. process input throught the network \n",
        "4. compute the loss (how far is the output being correct)\n",
        "5. propagate gradients back into the network parameters \n",
        "6. update weight parameters\n",
        " \n",
        "     **weight = weight-learning rate* gradient**"
      ]
    },
    {
      "cell_type": "markdown",
      "metadata": {
        "id": "aREat-yFmbTH",
        "colab_type": "text"
      },
      "source": [
        "# Define The Network "
      ]
    },
    {
      "cell_type": "markdown",
      "metadata": {
        "id": "vrCRMXT2mhNy",
        "colab_type": "text"
      },
      "source": [
        "lets do it ... cheer up "
      ]
    },
    {
      "cell_type": "code",
      "metadata": {
        "id": "etP2S0McnSE1",
        "colab_type": "code",
        "colab": {}
      },
      "source": [
        "import torch \n",
        "import torch.nn as nn\n",
        "import torch.nn.functional as F\n",
        "\n",
        "class Net(nn.Module):\n",
        "\n",
        "   def __init__(self):\n",
        "        super(Net, self).__init__()\n",
        "        # 1 input image channel, 6 output channels, 3x3 square convolution\n",
        "        # kernel\n",
        "        self.conv1 = nn.Conv2d(1, 6, 3)\n",
        "        self.conv2 = nn.Conv2d(6, 16, 3)\n",
        "        # an affine operation: y = Wx + b\n",
        "        self.fc1 = nn.Linear(16 * 6 * 6, 120)  # 6*6 from image dimension\n",
        "        self.fc2 = nn.Linear(120, 84)\n",
        "        self.fc3 = nn.Linear(84, 10)\n",
        "   def forward(self, x):\n",
        "        # Max pooling over a (2, 2) window\n",
        "        x = F.max_pool2d(F.relu(self.conv1(x)), (2, 2))\n",
        "        # If the size is a square you can only specify a single number\n",
        "        x = F.max_pool2d(F.relu(self.conv2(x)), 2)\n",
        "        x = x.view(-1, self.num_flat_features(x))\n",
        "        x = F.relu(self.fc1(x))\n",
        "        x = F.relu(self.fc2(x))\n",
        "        x = self.fc3(x)\n",
        "        return x\n",
        "\n",
        "   def num_flat_features(self, x):\n",
        "        size = x.size()[1:]  # all dimensions except the batch dimension\n",
        "        num_features = 1\n",
        "        for s in size:\n",
        "            num_features *= s\n",
        "        return num_features\n",
        "\n",
        "  "
      ],
      "execution_count": 0,
      "outputs": []
    },
    {
      "cell_type": "code",
      "metadata": {
        "id": "vLEnp1dOsVWa",
        "colab_type": "code",
        "colab": {}
      },
      "source": [
        "net = Net()\n",
        "print(net)"
      ],
      "execution_count": 0,
      "outputs": []
    },
    {
      "cell_type": "markdown",
      "metadata": {
        "id": "V6eRwoQ6tbas",
        "colab_type": "text"
      },
      "source": [
        "You just have to define the **forward function**, and the **backward function** (where gradients are computed) is automatically defined for you using autograd. You can use any of the Tensor operations in the forward function.\n",
        "\n",
        "The learnable parameters of a model are returned by **net.parameters()**"
      ]
    },
    {
      "cell_type": "code",
      "metadata": {
        "id": "0RIyAQZstnHg",
        "colab_type": "code",
        "colab": {}
      },
      "source": [
        "params = list(net.parameters())\n",
        "print(len(params))\n",
        "print(params[0].size())"
      ],
      "execution_count": 0,
      "outputs": []
    },
    {
      "cell_type": "markdown",
      "metadata": {
        "id": "UVIqgFATv6x5",
        "colab_type": "text"
      },
      "source": [
        "Let’s try a random **32x32 input**. Note: expected input size of this net (LeNet) is 32x32. To use this net on the MNIST dataset, please resize the images from the dataset to 32x32."
      ]
    },
    {
      "cell_type": "code",
      "metadata": {
        "id": "At34CXihv5_E",
        "colab_type": "code",
        "colab": {}
      },
      "source": [
        "input = torch.randn(1, 1, 32, 32)\n",
        "out = net(input)\n",
        "print(out)"
      ],
      "execution_count": 0,
      "outputs": []
    },
    {
      "cell_type": "markdown",
      "metadata": {
        "id": "DEuFG0Gd1dXB",
        "colab_type": "text"
      },
      "source": [
        "**torch.nn** only supports mini-batches. The entire **torch.nn** package only supports inputs that are a mini-batch of samples, and not a single sample.\n",
        "\n",
        "For example,** nn.Conv2d** will take in a 4D Tensor of **nSamples x nChannels x Height x Width.**\n",
        "\n",
        "If you have a single sample, just use **input.unsqueeze(0)** to add a fake batch dimension"
      ]
    },
    {
      "cell_type": "markdown",
      "metadata": {
        "id": "UfcVo71c1I0u",
        "colab_type": "text"
      },
      "source": [
        "**Zero the gradient** buffers of all parameters and backprops with random gradients:"
      ]
    },
    {
      "cell_type": "code",
      "metadata": {
        "id": "pAxZN5Q91UNM",
        "colab_type": "code",
        "colab": {}
      },
      "source": [
        "net.zero_grad()\n",
        "out.backward(torch.randn(1, 10))"
      ],
      "execution_count": 0,
      "outputs": []
    },
    {
      "cell_type": "markdown",
      "metadata": {
        "id": "0SQpoBxk14CH",
        "colab_type": "text"
      },
      "source": [
        "wrap up .. \n",
        "\n",
        "\n",
        "* **torch.Tensor** - A multi-dimensional array with support for autograd operations like **backward()**. Also holds the gradient w.r.t. the tensor.\n",
        "* **nn.Module** - Neural network module. Convenient way of encapsulating parameters, with helpers for moving them to GPU, exporting, loading, etc.\n",
        "nn.Parameter - A kind of Tensor, that is automatically registered as a parameter when assigned as an attribute to a Module.\n",
        "* **autograd.Function** - Implements forward and backward definitions of an autograd operation. Every Tensor operation creates at least a single Function node that connects to functions that created a Tensor and encodes its history.\n",
        "\n",
        "\n",
        "At this point , we covered:\n",
        "\n",
        "* Defining neural network \n",
        "* processing input and calling backward \n",
        "\n",
        "So what is left:\n",
        "\n",
        "* computing loss \n",
        "* updating the weight parameters \n",
        "\n"
      ]
    },
    {
      "cell_type": "markdown",
      "metadata": {
        "id": "ETkb66Z36vez",
        "colab_type": "text"
      },
      "source": [
        "# Loss Function  "
      ]
    },
    {
      "cell_type": "markdown",
      "metadata": {
        "id": "bUA-p2-D21xt",
        "colab_type": "text"
      },
      "source": [
        "**Loss  Function**\n",
        "\n",
        "A loss function takes the (output, target) pair of inputs, and computes a value that estimates how far away the output is from the target.\n",
        "\n",
        "There are several different loss functions under the nn package . A simple loss is: nn.MSELoss which computes the mean-squared error between the input and the target.\n",
        "\n",
        "For example:"
      ]
    },
    {
      "cell_type": "code",
      "metadata": {
        "id": "l9AgFEta3ZuD",
        "colab_type": "code",
        "colab": {
          "base_uri": "https://localhost:8080/",
          "height": 34
        },
        "outputId": "d79f5664-28c7-4469-d8e2-e3df4cfe6c64"
      },
      "source": [
        "output = net(input)\n",
        "target = torch.randn(10)  # a dummy target, for example\n",
        "target = target.view(1, -1)  # make it the same shape as output\n",
        "criterion = nn.MSELoss()\n",
        "\n",
        "loss = criterion(output, target)\n",
        "print(loss)"
      ],
      "execution_count": 94,
      "outputs": [
        {
          "output_type": "stream",
          "text": [
            "tensor(0.5892, grad_fn=<MseLossBackward>)\n"
          ],
          "name": "stdout"
        }
      ]
    },
    {
      "cell_type": "markdown",
      "metadata": {
        "id": "ejvkB33Q3lnK",
        "colab_type": "text"
      },
      "source": [
        "Now, if you follow loss in the backward direction, using its .grad_fn attribute, you will see a graph of computations that looks like this"
      ]
    },
    {
      "cell_type": "markdown",
      "metadata": {
        "id": "zCl4rjO13tBL",
        "colab_type": "text"
      },
      "source": [
        "input -> conv2d -> relu -> maxpool2d -> conv2d -> relu -> maxpool2d\n",
        "      -> view -> linear -> relu -> linear -> relu -> linear\n",
        "      -> MSELoss\n",
        "      -> loss"
      ]
    },
    {
      "cell_type": "markdown",
      "metadata": {
        "id": "cEy4a1u-31ar",
        "colab_type": "text"
      },
      "source": [
        "So, when we call **loss.backward()**, the whole graph is differentiated w.r.t. the loss, and all Tensors in the graph that has requires_grad=True will have their **.grad** Tensor accumulated with the gradient.\n",
        "\n",
        "For illustration, let us follow a few steps backward:"
      ]
    },
    {
      "cell_type": "code",
      "metadata": {
        "id": "NQUkBjiL4Cw8",
        "colab_type": "code",
        "colab": {}
      },
      "source": [
        "print(loss.grad_fn)  # MSELoss\n",
        "print(loss.grad_fn.next_functions[0][0])  # Linear\n",
        "print(loss.grad_fn.next_functions[0][0].next_functions[0][0])  # ReLU"
      ],
      "execution_count": 0,
      "outputs": []
    },
    {
      "cell_type": "markdown",
      "metadata": {
        "id": "lTec-NEH4Gz7",
        "colab_type": "text"
      },
      "source": [
        "then \n",
        "\n"
      ]
    },
    {
      "cell_type": "markdown",
      "metadata": {
        "id": "fLnfHtDz4JKO",
        "colab_type": "text"
      },
      "source": [
        "# Backprop \n"
      ]
    },
    {
      "cell_type": "markdown",
      "metadata": {
        "id": "Mw5Ql6fh4VES",
        "colab_type": "text"
      },
      "source": [
        "To backpropagate the error all we have to do is to **loss.backward()**. You need to clear the existing gradients though, else gradients will be accumulated to existing gradients.\n",
        "\n",
        "Now we shall call **loss.backward()**, and have a look at conv1’s bias gradients before and after the backward."
      ]
    },
    {
      "cell_type": "code",
      "metadata": {
        "id": "U_stTDDD4Rvr",
        "colab_type": "code",
        "colab": {}
      },
      "source": [
        "net.zero_grad()     # zeroes the gradient buffers of all parameters\n",
        "\n",
        "print('conv1.bias.grad before backward')\n",
        "print(net.conv1.bias.grad)\n",
        "\n",
        "loss.backward()\n",
        "\n",
        "print('conv1.bias.grad after backward')\n",
        "print(net.conv1.bias.grad)"
      ],
      "execution_count": 0,
      "outputs": []
    },
    {
      "cell_type": "markdown",
      "metadata": {
        "id": "tcQdHJFE4ncy",
        "colab_type": "text"
      },
      "source": [
        "**The only thing left to learn is:**\n",
        "\n",
        "\n",
        "Updating the weights of the network\n",
        "\n",
        "\n",
        "**Update the weights**"
      ]
    },
    {
      "cell_type": "markdown",
      "metadata": {
        "id": "2NdNvfMj43pO",
        "colab_type": "text"
      },
      "source": [
        "The simplest update rule used in practice is the Stochastic Gradient Descent (SGD):\n",
        "\n",
        " **weight = weight - learning_rate * gradient**\n",
        "\n",
        " \n",
        "We can implement this using simple Python code:"
      ]
    },
    {
      "cell_type": "code",
      "metadata": {
        "id": "7oVFduaO5F0R",
        "colab_type": "code",
        "colab": {}
      },
      "source": [
        "learning_rate = 0.01\n",
        "for f in net.parameters():\n",
        "    f.data.sub_(f.grad.data * learning_rate)"
      ],
      "execution_count": 0,
      "outputs": []
    },
    {
      "cell_type": "markdown",
      "metadata": {
        "id": "MlWzdE7u5Mbp",
        "colab_type": "text"
      },
      "source": [
        "However, as you use neural networks, you want to use various different update rules such as SGD, Nesterov-SGD, Adam, RMSProp, etc. To enable this, we built a small package: torch.optim that implements all these methods. Using it is very simple:"
      ]
    },
    {
      "cell_type": "code",
      "metadata": {
        "id": "hVTptILZ5Ppu",
        "colab_type": "code",
        "colab": {}
      },
      "source": [
        "import torch.optim as optim\n",
        "\n",
        "# create your optimizer\n",
        "optimizer = optim.SGD(net.parameters(), lr=0.01)\n",
        "\n",
        "# in your training loop:\n",
        "optimizer.zero_grad()   # zero the gradient buffers\n",
        "output = net(input)\n",
        "loss = criterion(output, target)\n",
        "loss.backward()\n",
        "optimizer.step()    # Does the update"
      ],
      "execution_count": 0,
      "outputs": []
    },
    {
      "cell_type": "markdown",
      "metadata": {
        "id": "AyILB-J78h_-",
        "colab_type": "text"
      },
      "source": [
        "**Exercise:**\n",
        "\n",
        "* Write a proper training loop for this linear regression example.\n",
        "* Split data into train and valid.\n",
        "* Use the Dataset and DataLoader abstraction.\n",
        "* Create a logistic regression module.\n",
        "* Create a Multi Layer Perceptron (MLP)."
      ]
    }
  ]
}