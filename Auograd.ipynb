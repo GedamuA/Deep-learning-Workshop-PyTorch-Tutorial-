{
  "nbformat": 4,
  "nbformat_minor": 0,
  "metadata": {
    "colab": {
      "name": "Auograd.ipynb",
      "provenance": [],
      "toc_visible": true
    },
    "kernelspec": {
      "name": "python3",
      "display_name": "Python 3"
    },
    "accelerator": "GPU"
  },
  "cells": [
    {
      "cell_type": "markdown",
      "metadata": {
        "id": "mzHoGdZelfKZ",
        "colab_type": "text"
      },
      "source": [
        "  **By: Gedamu A.**\n",
        "\n",
        "  2020-20-01\n",
        "\n",
        "  **Center for Future Media, UESTC, China** \n",
        "\n",
        "  \n"
      ]
    },
    {
      "cell_type": "markdown",
      "metadata": {
        "id": "HwFbd_yF28Kp",
        "colab_type": "text"
      },
      "source": [
        "**Big Q ?**\n",
        "\n",
        "why do we need a new tensor? why can not use basic numpy ? "
      ]
    },
    {
      "cell_type": "markdown",
      "metadata": {
        "id": "uLUyAA_P3QlM",
        "colab_type": "text"
      },
      "source": [
        "\n",
        "**Autograd : Automatic Diffeentiation**\n",
        "\n",
        "Central to all neural networks in PyTorch is the autograd package. \n",
        "\n",
        "The autograd package provides automatic differentiation for all operations on Tensors. \n",
        "1. It is a define-by-run framework, which means that your backprop is defined by how your code is run, and\n",
        "2. That every single iteration can be different\n",
        "\n",
        "PyTorch used the class Variable to record gradients. You had to wrap Tensors in Variables. Variables behaved exactly like Tensors.\n",
        "\n",
        "With  Tensor can record gradients directly if you tell it do do so, e.g. torch.ones(3, requires_grad=True). There is no need for Variable anymore. Many tutorials still use Variable, be aware!\n",
        "\n",
        "Refs : \n",
        "*   https://pytorch.org/docs/stable/autograd.html\n",
        "*   https://pytorch.org/tutorials/beginner/blitz/autograd_tutorial.html\n",
        "\n",
        "**packages:**\n",
        "1. **torch.Tensor** ==> centeral class of the package, if you set its attribute **.requires_grad** as True, it starts to track all operations on it.\n",
        "2. **.backward()** ==> When you finish your computation you can call  and have all the gradients computed automatically. The gradient for this tensor will be accumulated into .grad attribute.\n",
        "3. **with torch.no_grad():** To prevent tracking history (and using memory), you can also wrap the code block in\n",
        "\n",
        "\n",
        "**Note: **\n",
        "This can be particularly helpful when evaluating a model because the model may have trainable parameters with requires_grad=True, but for which we don’t need the gradients.\n",
        "\n",
        "\n",
        "There’s one more class which is very important for autograd implementation - a **Function**.\n",
        "\n",
        "**Tensor** and **Function** are interconnected and build up an acyclic graph, that encodes a complete history of computation. Each tensor has a .grad_fn attribute that references a Function that has created the Tensor (except for Tensors created by the user - their grad_fn is None).\n",
        "\n",
        "If you want to compute the derivatives, you can call **.backward()** on a Tensor. If Tensor is a scalar (i.e. it holds a one element data), you don’t need to specify any arguments to backward(), however if it has more elements, you need to specify a gradient argument that is a tensor of matching shape.\n",
        "\n",
        "\n",
        "\n",
        "lets Do it .... cheer up !!!"
      ]
    },
    {
      "cell_type": "markdown",
      "metadata": {
        "id": "XmqOec_P3j72",
        "colab_type": "text"
      },
      "source": [
        ""
      ]
    },
    {
      "cell_type": "code",
      "metadata": {
        "id": "_t6-GHUrnu55",
        "colab_type": "code",
        "colab": {
          "base_uri": "https://localhost:8080/",
          "height": 51
        },
        "outputId": "096ec850-3ecd-4b9b-e821-0e89d6f8a2f5"
      },
      "source": [
        "# Create a tensor and set requires_grad=True to track computation with it\n",
        "import torch \n",
        "from torch import autograd \n",
        "\n",
        "x = torch.ones(2, 2)\n",
        "x"
      ],
      "execution_count": 3,
      "outputs": [
        {
          "output_type": "execute_result",
          "data": {
            "text/plain": [
              "tensor([[1., 1.],\n",
              "        [1., 1.]])"
            ]
          },
          "metadata": {
            "tags": []
          },
          "execution_count": 3
        }
      ]
    },
    {
      "cell_type": "code",
      "metadata": {
        "id": "QAVgfxh3tu4W",
        "colab_type": "code",
        "colab": {
          "base_uri": "https://localhost:8080/",
          "height": 51
        },
        "outputId": "60b62dc6-1d72-4a32-ed73-3e3e8171f8ed"
      },
      "source": [
        "x = torch.ones(2, 2,  requires_grad =True)\n",
        "x"
      ],
      "execution_count": 6,
      "outputs": [
        {
          "output_type": "execute_result",
          "data": {
            "text/plain": [
              "tensor([[1., 1.],\n",
              "        [1., 1.]], requires_grad=True)"
            ]
          },
          "metadata": {
            "tags": []
          },
          "execution_count": 6
        }
      ]
    },
    {
      "cell_type": "code",
      "metadata": {
        "id": "NS4F5Tu-tzd6",
        "colab_type": "code",
        "colab": {
          "base_uri": "https://localhost:8080/",
          "height": 51
        },
        "outputId": "5788a520-5628-481f-93cb-658a6ef790e4"
      },
      "source": [
        "y = x+2\n",
        "y"
      ],
      "execution_count": 7,
      "outputs": [
        {
          "output_type": "execute_result",
          "data": {
            "text/plain": [
              "tensor([[3., 3.],\n",
              "        [3., 3.]], grad_fn=<AddBackward0>)"
            ]
          },
          "metadata": {
            "tags": []
          },
          "execution_count": 7
        }
      ]
    },
    {
      "cell_type": "markdown",
      "metadata": {
        "id": "9WDTaS7_uaio",
        "colab_type": "text"
      },
      "source": [
        "Y was created as a result of an opration, so it has grad_fun"
      ]
    },
    {
      "cell_type": "code",
      "metadata": {
        "id": "WresOXeht8HI",
        "colab_type": "code",
        "colab": {
          "base_uri": "https://localhost:8080/",
          "height": 34
        },
        "outputId": "9d7b2002-e5f3-4373-a232-80baeb63865f"
      },
      "source": [
        "print(y.grad_fn)"
      ],
      "execution_count": 8,
      "outputs": [
        {
          "output_type": "stream",
          "text": [
            "<AddBackward0 object at 0x7ff3a8228470>\n"
          ],
          "name": "stdout"
        }
      ]
    },
    {
      "cell_type": "markdown",
      "metadata": {
        "id": "H_l_4QXKutVR",
        "colab_type": "text"
      },
      "source": [
        "More opration here:  "
      ]
    },
    {
      "cell_type": "code",
      "metadata": {
        "id": "KqeUwXlNupSi",
        "colab_type": "code",
        "colab": {
          "base_uri": "https://localhost:8080/",
          "height": 51
        },
        "outputId": "4f6c22b2-5405-4346-9a1e-b90fc82c148f"
      },
      "source": [
        "z = y*y*4\n",
        "out = z.mean()\n",
        "\n",
        "print(z, out)"
      ],
      "execution_count": 10,
      "outputs": [
        {
          "output_type": "stream",
          "text": [
            "tensor([[36., 36.],\n",
            "        [36., 36.]], grad_fn=<MulBackward0>) tensor(36., grad_fn=<MeanBackward0>)\n"
          ],
          "name": "stdout"
        }
      ]
    },
    {
      "cell_type": "markdown",
      "metadata": {
        "id": "jSi3agl8vsuP",
        "colab_type": "text"
      },
      "source": [
        "Gradients: \n",
        "Let’s backprop now. Because out contains a single scalar, out.backward() is equivalent to **out.backward(torch.tensor(1.)).**"
      ]
    },
    {
      "cell_type": "code",
      "metadata": {
        "id": "asdPVUMbv8Aa",
        "colab_type": "code",
        "colab": {}
      },
      "source": [
        "out.backward()"
      ],
      "execution_count": 0,
      "outputs": []
    },
    {
      "cell_type": "markdown",
      "metadata": {
        "id": "FnsTKx1awCe4",
        "colab_type": "text"
      },
      "source": [
        "Print gradients d(out)/dx"
      ]
    },
    {
      "cell_type": "code",
      "metadata": {
        "id": "hZA89sPfv_gr",
        "colab_type": "code",
        "colab": {
          "base_uri": "https://localhost:8080/",
          "height": 51
        },
        "outputId": "4922b403-31ec-41eb-f3f4-d87cdd2b1e73"
      },
      "source": [
        "print(x.grad)"
      ],
      "execution_count": 12,
      "outputs": [
        {
          "output_type": "stream",
          "text": [
            "tensor([[6., 6.],\n",
            "        [6., 6.]])\n"
          ],
          "name": "stdout"
        }
      ]
    },
    {
      "cell_type": "markdown",
      "metadata": {
        "id": "Rbe-J5q0xHXA",
        "colab_type": "text"
      },
      "source": [
        " What is going to happen here?\n"
      ]
    },
    {
      "cell_type": "code",
      "metadata": {
        "id": "vtRVL4Z5y3W2",
        "colab_type": "code",
        "colab": {
          "base_uri": "https://localhost:8080/",
          "height": 34
        },
        "outputId": "b5c3057f-9b1d-4231-d3b7-44c38bde4284"
      },
      "source": [
        "\n",
        "# Don't record the gradient\n",
        "# Useful for inference\n",
        "\n",
        "params = torch.tensor(2., requires_grad=True)\n",
        "\n",
        "with torch.no_grad():\n",
        "    y = x * x\n",
        "    print(x.grad_fn)"
      ],
      "execution_count": 14,
      "outputs": [
        {
          "output_type": "stream",
          "text": [
            "None\n"
          ],
          "name": "stdout"
        }
      ]
    },
    {
      "cell_type": "markdown",
      "metadata": {
        "id": "P_dAHsKYzFKr",
        "colab_type": "text"
      },
      "source": [
        "\n",
        "nn.Module and nn.Parameter keep track of gradients for you"
      ]
    },
    {
      "cell_type": "code",
      "metadata": {
        "id": "ZcTrqq4NzNOC",
        "colab_type": "code",
        "colab": {
          "base_uri": "https://localhost:8080/",
          "height": 51
        },
        "outputId": "3c95fdb3-95d2-47b3-e6ef-5b553faec103"
      },
      "source": [
        "import torch.nn as nn\n",
        "lin = nn.Linear(2, 1, bias=1)\n",
        "lin.weight"
      ],
      "execution_count": 19,
      "outputs": [
        {
          "output_type": "execute_result",
          "data": {
            "text/plain": [
              "Parameter containing:\n",
              "tensor([[0.4725, 0.4452]], requires_grad=True)"
            ]
          },
          "metadata": {
            "tags": []
          },
          "execution_count": 19
        }
      ]
    },
    {
      "cell_type": "code",
      "metadata": {
        "id": "iU9_8jXozk5b",
        "colab_type": "code",
        "colab": {
          "base_uri": "https://localhost:8080/",
          "height": 34
        },
        "outputId": "10705dc5-8a5d-439e-db56-0364fc353ffb"
      },
      "source": [
        "type(lin.weight)\n",
        "len(lin.weight)"
      ],
      "execution_count": 21,
      "outputs": [
        {
          "output_type": "execute_result",
          "data": {
            "text/plain": [
              "1"
            ]
          },
          "metadata": {
            "tags": []
          },
          "execution_count": 21
        }
      ]
    },
    {
      "cell_type": "code",
      "metadata": {
        "id": "2o5GoC8E0haj",
        "colab_type": "code",
        "colab": {
          "base_uri": "https://localhost:8080/",
          "height": 68
        },
        "outputId": "368b1209-5ba2-4a9d-f332-cf8fd728696e"
      },
      "source": [
        " # using .detach() to get a new Tensor with the same content but that does not require gradients:\n",
        "print(x.requires_grad)\n",
        "y = x.detach()\n",
        "print(y.requires_grad)\n",
        "print(x.eq(y).all())"
      ],
      "execution_count": 23,
      "outputs": [
        {
          "output_type": "stream",
          "text": [
            "True\n",
            "False\n",
            "tensor(True)\n"
          ],
          "name": "stdout"
        }
      ]
    },
    {
      "cell_type": "markdown",
      "metadata": {
        "id": "4wGtDcmT12YV",
        "colab_type": "text"
      },
      "source": [
        "**Exercise**\n",
        "\n",
        "Do you remember the analytical solution to solve for the parameters of linear regression? Implement it."
      ]
    },
    {
      "cell_type": "markdown",
      "metadata": {
        "id": "qSvSmqDF4Gfc",
        "colab_type": "text"
      },
      "source": [
        "But what About the GPU ?"
      ]
    },
    {
      "cell_type": "code",
      "metadata": {
        "id": "DEqSV0xR4EiK",
        "colab_type": "code",
        "colab": {}
      },
      "source": [
        "if cuda:\n",
        "  model = model.cuda()"
      ],
      "execution_count": 0,
      "outputs": []
    }
  ]
}