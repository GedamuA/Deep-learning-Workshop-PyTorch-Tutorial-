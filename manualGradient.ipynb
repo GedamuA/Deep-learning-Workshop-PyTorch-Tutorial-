{
  "nbformat": 4,
  "nbformat_minor": 0,
  "metadata": {
    "colab": {
      "name": "manualGradient.ipynb",
      "provenance": [],
      "collapsed_sections": []
    },
    "kernelspec": {
      "name": "python3",
      "display_name": "Python 3"
    }
  },
  "cells": [
    {
      "cell_type": "code",
      "metadata": {
        "id": "Xv6uUs3XZTke",
        "colab_type": "code",
        "colab": {
          "base_uri": "https://localhost:8080/",
          "height": 731
        },
        "outputId": "b1d03863-7b5d-4d9a-b21b-71b7b1da2a23"
      },
      "source": [
        "# Gedamu A.\n",
        "# Center for Future media\n",
        "# chengdu , China \n",
        "# 2020 - 01 - 28\n",
        "\n",
        "# Manual Autogradient Example using pytorch \n",
        "x_data = [1.0, 2.0, 3.0]\n",
        "y_data = [2.0, 4.0, 6.0]\n",
        "\n",
        "w = 1.0  # any random value\n",
        "\n",
        "\n",
        "# our model forward pass\n",
        "def forward(x):\n",
        "    return x * w\n",
        "\n",
        "\n",
        "# Loss function\n",
        "def loss(x, y):\n",
        "    y_pred = forward(x)\n",
        "    return (y_pred - y) * (y_pred - y)\n",
        "\n",
        "\n",
        "# compute gradient\n",
        "def gradient(x, y):  # d_loss/d_w\n",
        "    return 2 * x * (x * w - y)\n",
        "\n",
        "# Before training\n",
        "print(\"predict (before training)\",  4, forward(4))\n",
        "\n",
        "# Training loop\n",
        "for epoch in range(10):\n",
        "    for x_val, y_val in zip(x_data, y_data):\n",
        "        grad = gradient(x_val, y_val)\n",
        "        w = w - 0.01 * grad\n",
        "        print(\"\\tgrad: \", x_val, y_val, grad)\n",
        "        l = loss(x_val, y_val)\n",
        "\n",
        "    print(\"progress:\", epoch, l)\n",
        "\n",
        "# After training\n",
        "print(\"predict (after training)\",  4, forward(4))"
      ],
      "execution_count": 3,
      "outputs": [
        {
          "output_type": "stream",
          "text": [
            "predict (before training) 4 4.0\n",
            "\tgrad:  1.0 2.0 -2.0\n",
            "\tgrad:  2.0 4.0 -7.84\n",
            "\tgrad:  3.0 6.0 -16.2288\n",
            "progress: 0 4.919240100095999\n",
            "\tgrad:  1.0 2.0 -1.478624\n",
            "\tgrad:  2.0 4.0 -5.796206079999999\n",
            "\tgrad:  3.0 6.0 -11.998146585599997\n",
            "progress: 1 2.688769240265834\n",
            "\tgrad:  1.0 2.0 -1.093164466688\n",
            "\tgrad:  2.0 4.0 -4.285204709416961\n",
            "\tgrad:  3.0 6.0 -8.87037374849311\n",
            "progress: 2 1.4696334962911515\n",
            "\tgrad:  1.0 2.0 -0.8081896081960389\n",
            "\tgrad:  2.0 4.0 -3.1681032641284723\n",
            "\tgrad:  3.0 6.0 -6.557973756745939\n",
            "progress: 3 0.8032755585999681\n",
            "\tgrad:  1.0 2.0 -0.59750427561463\n",
            "\tgrad:  2.0 4.0 -2.3422167604093502\n",
            "\tgrad:  3.0 6.0 -4.848388694047353\n",
            "progress: 4 0.43905614881022015\n",
            "\tgrad:  1.0 2.0 -0.44174208101320334\n",
            "\tgrad:  2.0 4.0 -1.7316289575717576\n",
            "\tgrad:  3.0 6.0 -3.584471942173538\n",
            "progress: 5 0.2399802903801062\n",
            "\tgrad:  1.0 2.0 -0.3265852213980338\n",
            "\tgrad:  2.0 4.0 -1.2802140678802925\n",
            "\tgrad:  3.0 6.0 -2.650043120512205\n",
            "progress: 6 0.1311689630744999\n",
            "\tgrad:  1.0 2.0 -0.241448373202223\n",
            "\tgrad:  2.0 4.0 -0.946477622952715\n",
            "\tgrad:  3.0 6.0 -1.9592086795121197\n",
            "progress: 7 0.07169462478267678\n",
            "\tgrad:  1.0 2.0 -0.17850567968888198\n",
            "\tgrad:  2.0 4.0 -0.6997422643804168\n",
            "\tgrad:  3.0 6.0 -1.4484664872674653\n",
            "progress: 8 0.03918700813247573\n",
            "\tgrad:  1.0 2.0 -0.13197139106214673\n",
            "\tgrad:  2.0 4.0 -0.5173278529636143\n",
            "\tgrad:  3.0 6.0 -1.0708686556346834\n",
            "progress: 9 0.021418922423117836\n",
            "predict (after training) 4 7.804863933862125\n"
          ],
          "name": "stdout"
        }
      ]
    }
  ]
}